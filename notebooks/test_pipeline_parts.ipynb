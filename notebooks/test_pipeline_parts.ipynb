{
 "cells": [
  {
   "cell_type": "markdown",
   "id": "ebfb78fd",
   "metadata": {},
   "source": [
    "# Protein Folding Principles Dataset"
   ]
  },
  {
   "cell_type": "code",
   "execution_count": 1,
   "id": "3f70b3aa",
   "metadata": {},
   "outputs": [],
   "source": [
    "import matplotlib.pyplot as plt"
   ]
  },
  {
   "cell_type": "code",
   "execution_count": 2,
   "id": "05df15d0",
   "metadata": {},
   "outputs": [],
   "source": [
    "#Change root directory to the project root\n",
    "#This is necessary to import modules from the project\n",
    "#without having to install them\n",
    "\n",
    "import sys\n",
    "import os\n",
    "project_root = os.path.abspath(os.path.join(os.getcwd(), \"..\"))\n",
    "if project_root not in sys.path:\n",
    "    sys.path.insert(0, project_root)"
   ]
  },
  {
   "cell_type": "code",
   "execution_count": 3,
   "id": "f3d3fe7a",
   "metadata": {},
   "outputs": [],
   "source": [
    "## Interactive reloading\n",
    "#This is useful for Jupyter notebooks to automatically reload modules\n",
    "\n",
    "%load_ext autoreload\n",
    "%autoreload 2"
   ]
  },
  {
   "cell_type": "markdown",
   "id": "cd4697c2",
   "metadata": {},
   "source": [
    "## Get PDB codes for high quality structures using PISCES"
   ]
  },
  {
   "cell_type": "code",
   "execution_count": 4,
   "id": "615ea829",
   "metadata": {},
   "outputs": [
    {
     "name": "stdout",
     "output_type": "stream",
     "text": [
      "Detected PISCES columns: ['PDBchain', 'len', 'method', 'resol', 'rfac', 'freerfac']\n",
      "Found 11116 high-quality structures with pdb codes.\n",
      "['5D8V', '5NW3', '1UCS', '3X2M', '2VB1', '1US0', '6E6O', '6S2M', '1R6J', '4REK']\n"
     ]
    }
   ],
   "source": [
    "from dataset.pisces import fetch_pisces_table, get_filtered_pdb_codes\n",
    "\n",
    "# Fetch and filter\n",
    "pisces_df = fetch_pisces_table()\n",
    "pdb_ids = get_filtered_pdb_codes(pisces_df)\n",
    "\n",
    "# Preview results\n",
    "print(f\"Found {len(pdb_ids)} high-quality structures with pdb codes.\")\n",
    "print(pdb_ids[:10])\n"
   ]
  },
  {
   "cell_type": "markdown",
   "id": "53194649",
   "metadata": {},
   "source": [
    "## Find beta-beta patterns and their chirality in PDB entries"
   ]
  },
  {
   "cell_type": "code",
   "execution_count": null,
   "id": "51a6b932",
   "metadata": {},
   "outputs": [],
   "source": [
    "from dataset.io_utils import fetch_mmcif_file, run_dssp_on_mmcif\n",
    "from dataset.motif_logic import detect_hairpins, identify_strands, assign_beta_chirality_strand_axis, assign_beta_chirality_local\n",
    "import pandas as pd\n",
    "import os\n",
    "\n",
    "#pdb_ids = [\"8GBS\", \"7R1C\"]  # or a longer list\n",
    "results_strandaxis = []\n",
    "results_local = []\n",
    "\n",
    "for pdb_id in pdb_ids:\n",
    "    pdb_path = fetch_mmcif_file(pdb_id, outdir=\"./pdb_files\")\n",
    "    try:\n",
    "        model, dssp_df = run_dssp_on_mmcif(pdb_path, dssp_exe=\"/opt/anaconda3/envs/folding-dssp/bin/mkdssp\")\n",
    "        if dssp_df is None:\n",
    "            print(f\"DSSP failed for {pdb_id}. Skipping.\")\n",
    "            continue\n",
    "\n",
    "        hairpin_annotations = detect_hairpins(dssp_df)\n",
    "\n",
    "        # Chirality by strand axis + midpoint vector + CB\n",
    "        df_strandaxis = assign_beta_chirality_strand_axis(model, dssp_df, hairpin_annotations)\n",
    "        results_strandaxis.append(df_strandaxis)\n",
    "\n",
    "        # Chirality by backbone geometry (N→C, CA→CA, CA→CB)\n",
    "        df_local = assign_beta_chirality_local(model, dssp_df, hairpin_annotations)\n",
    "        results_local.append(df_local)\n",
    "    except Exception as e:\n",
    "        print(f\"Error processing {pdb_id}: {e}\")\n",
    "        continue\n",
    "    finally:\n",
    "        pass\n",
    "        # Optional: clean up\n",
    "        # if os.path.exists(pdb_path):\n",
    "        #     os.remove(pdb_path)\n",
    "\n",
    "all_hairpins_strandaxis = pd.concat(results_strandaxis, ignore_index=True)\n",
    "all_hairpins_local = pd.concat(results_local, ignore_index=True)\n",
    "\n",
    "#print(all_hairpins_backbone.head(10))\n",
    "all_hairpins_local\n"
   ]
  },
  {
   "cell_type": "code",
   "execution_count": null,
   "id": "0f50c0a2",
   "metadata": {},
   "outputs": [],
   "source": [
    "# save all_hairpins_local as pandas dataframe\n",
    "all_hairpins_local.to_csv(\"all_hairpins_local.csv\", index=False)\n",
    "# save all_hairpins_strandaxis as pandas dataframe\n",
    "all_hairpins_strandaxis.to_csv(\"all_hairpins_strandaxis.csv\", index=False)\n"
   ]
  },
  {
   "cell_type": "code",
   "execution_count": null,
   "id": "49d4e762",
   "metadata": {},
   "outputs": [
    {
     "data": {
      "text/plain": [
       "<Axes: xlabel='Loop length', ylabel='Frequency'>"
      ]
     },
     "execution_count": 6,
     "metadata": {},
     "output_type": "execute_result"
    },
    {
     "data": {
      "image/png": "[encoded data removed]",
      "text/plain": [
       "<Figure size 300x300 with 1 Axes>"
      ]
     },
     "metadata": {},
     "output_type": "display_data"
    },
    {
     "data": {
      "image/png": "[encoded data removed]",
      "text/plain": [
       "<Figure size 300x300 with 1 Axes>"
      ]
     },
     "metadata": {},
     "output_type": "display_data"
    }
   ],
   "source": [
    "from dataset.plots import plot_loop_length_chirality\n",
    "\n",
    "plot_loop_length_chirality(all_hairpins_strandaxis)   \n",
    "plot_loop_length_chirality(all_hairpins_local) "
   ]
  },
  {
   "cell_type": "markdown",
   "id": "4d175e3a",
   "metadata": {},
   "source": [
    "### What are those R hairpins with length 2?"
   ]
  },
  {
   "cell_type": "markdown",
   "id": "0666d998",
   "metadata": {},
   "source": [
    "None of these were observed in the paper. Maybe many of those are quite weak magnitude?"
   ]
  },
  {
   "cell_type": "code",
   "execution_count": 18,
   "id": "00ffe1b9",
   "metadata": {},
   "outputs": [
    {
     "data": {
      "text/html": [
       "<div>\n",
       "<style scoped>\n",
       "    .dataframe tbody tr th:only-of-type {\n",
       "        vertical-align: middle;\n",
       "    }\n",
       "\n",
       "    .dataframe tbody tr th {\n",
       "        vertical-align: top;\n",
       "    }\n",
       "\n",
       "    .dataframe thead th {\n",
       "        text-align: right;\n",
       "    }\n",
       "</style>\n",
       "<table border=\"1\" class=\"dataframe\">\n",
       "  <thead>\n",
       "    <tr style=\"text-align: right;\">\n",
       "      <th></th>\n",
       "      <th>Chain</th>\n",
       "      <th>strand1_start_idx</th>\n",
       "      <th>strand1_end_idx</th>\n",
       "      <th>strand2_start_idx</th>\n",
       "      <th>strand2_end_idx</th>\n",
       "      <th>strand1_start_res</th>\n",
       "      <th>strand1_end_res</th>\n",
       "      <th>strand2_start_res</th>\n",
       "      <th>strand2_end_res</th>\n",
       "      <th>loop_len</th>\n",
       "      <th>HairpinSequence</th>\n",
       "      <th>LoopSequence</th>\n",
       "      <th>FullChainSequence</th>\n",
       "      <th>PDB</th>\n",
       "      <th>handedness</th>\n",
       "      <th>handedness_magnitude</th>\n",
       "    </tr>\n",
       "  </thead>\n",
       "  <tbody>\n",
       "    <tr>\n",
       "      <th>27</th>\n",
       "      <td>A</td>\n",
       "      <td>431</td>\n",
       "      <td>432</td>\n",
       "      <td>435</td>\n",
       "      <td>436</td>\n",
       "      <td>440</td>\n",
       "      <td>441</td>\n",
       "      <td>444</td>\n",
       "      <td>445</td>\n",
       "      <td>2</td>\n",
       "      <td>FADDFC</td>\n",
       "      <td>DD</td>\n",
       "      <td>GYVPAVVIGTGYGAAVSALRLGEAGVQTLMLEMGQLWNQPGPDGNI...</td>\n",
       "      <td>4rek</td>\n",
       "      <td>R</td>\n",
       "      <td>0.000206</td>\n",
       "    </tr>\n",
       "    <tr>\n",
       "      <th>80</th>\n",
       "      <td>A</td>\n",
       "      <td>138</td>\n",
       "      <td>141</td>\n",
       "      <td>144</td>\n",
       "      <td>150</td>\n",
       "      <td>1139</td>\n",
       "      <td>1142</td>\n",
       "      <td>1145</td>\n",
       "      <td>1151</td>\n",
       "      <td>2</td>\n",
       "      <td>VIKTVKSVGMIAG</td>\n",
       "      <td>VK</td>\n",
       "      <td>STPAITLENPDIKYPLRLIDKEVVNHDTRRFRFALPSPEHILGLPV...</td>\n",
       "      <td>5gv8</td>\n",
       "      <td>R</td>\n",
       "      <td>0.138283</td>\n",
       "    </tr>\n",
       "    <tr>\n",
       "      <th>131</th>\n",
       "      <td>A</td>\n",
       "      <td>20</td>\n",
       "      <td>24</td>\n",
       "      <td>27</td>\n",
       "      <td>32</td>\n",
       "      <td>45</td>\n",
       "      <td>48</td>\n",
       "      <td>49</td>\n",
       "      <td>54</td>\n",
       "      <td>2</td>\n",
       "      <td>FSVTRGATKGFVT</td>\n",
       "      <td>GA</td>\n",
       "      <td>ANIVGGIEYSINNASLCSVGFSVTRGATKGFVTAGHCGTVNATARI...</td>\n",
       "      <td>2h5c</td>\n",
       "      <td>R</td>\n",
       "      <td>0.810487</td>\n",
       "    </tr>\n",
       "    <tr>\n",
       "      <th>207</th>\n",
       "      <td>A</td>\n",
       "      <td>90</td>\n",
       "      <td>91</td>\n",
       "      <td>94</td>\n",
       "      <td>95</td>\n",
       "      <td>128</td>\n",
       "      <td>129</td>\n",
       "      <td>132</td>\n",
       "      <td>133</td>\n",
       "      <td>2</td>\n",
       "      <td>VTISGN</td>\n",
       "      <td>IS</td>\n",
       "      <td>TVIPLQTTVQTPITLGSANNFAVIAGSSVTNTGATNITGDLGLSPG...</td>\n",
       "      <td>6eio</td>\n",
       "      <td>R</td>\n",
       "      <td>0.140925</td>\n",
       "    </tr>\n",
       "    <tr>\n",
       "      <th>209</th>\n",
       "      <td>A</td>\n",
       "      <td>100</td>\n",
       "      <td>101</td>\n",
       "      <td>104</td>\n",
       "      <td>108</td>\n",
       "      <td>138</td>\n",
       "      <td>139</td>\n",
       "      <td>142</td>\n",
       "      <td>146</td>\n",
       "      <td>2</td>\n",
       "      <td>TLTPGLYKS</td>\n",
       "      <td>TP</td>\n",
       "      <td>TVIPLQTTVQTPITLGSANNFAVIAGSSVTNTGATNITGDLGLSPG...</td>\n",
       "      <td>6eio</td>\n",
       "      <td>R</td>\n",
       "      <td>0.276572</td>\n",
       "    </tr>\n",
       "    <tr>\n",
       "      <th>228</th>\n",
       "      <td>A</td>\n",
       "      <td>373</td>\n",
       "      <td>374</td>\n",
       "      <td>377</td>\n",
       "      <td>379</td>\n",
       "      <td>402</td>\n",
       "      <td>403</td>\n",
       "      <td>406</td>\n",
       "      <td>408</td>\n",
       "      <td>2</td>\n",
       "      <td>GYTALKD</td>\n",
       "      <td>TA</td>\n",
       "      <td>TPEDWKALAADVRSEFQWAWQGYVAKAWGKDEINPVSGTSRSFFIE...</td>\n",
       "      <td>4ayo</td>\n",
       "      <td>R</td>\n",
       "      <td>0.262817</td>\n",
       "    </tr>\n",
       "    <tr>\n",
       "      <th>238</th>\n",
       "      <td>A</td>\n",
       "      <td>42</td>\n",
       "      <td>43</td>\n",
       "      <td>46</td>\n",
       "      <td>50</td>\n",
       "      <td>43</td>\n",
       "      <td>44</td>\n",
       "      <td>47</td>\n",
       "      <td>51</td>\n",
       "      <td>2</td>\n",
       "      <td>KPAGEILRI</td>\n",
       "      <td>AG</td>\n",
       "      <td>MEIPVIEPLFTKVTEDIPGAEGPVFDKNGDFYIVAPEVEVNGKPAG...</td>\n",
       "      <td>3o4p</td>\n",
       "      <td>R</td>\n",
       "      <td>0.320938</td>\n",
       "    </tr>\n",
       "    <tr>\n",
       "      <th>240</th>\n",
       "      <td>A</td>\n",
       "      <td>57</td>\n",
       "      <td>61</td>\n",
       "      <td>64</td>\n",
       "      <td>65</td>\n",
       "      <td>58</td>\n",
       "      <td>62</td>\n",
       "      <td>65</td>\n",
       "      <td>66</td>\n",
       "      <td>2</td>\n",
       "      <td>KTVICKPEV</td>\n",
       "      <td>KP</td>\n",
       "      <td>MEIPVIEPLFTKVTEDIPGAEGPVFDKNGDFYIVAPEVEVNGKPAG...</td>\n",
       "      <td>3o4p</td>\n",
       "      <td>R</td>\n",
       "      <td>0.307513</td>\n",
       "    </tr>\n",
       "    <tr>\n",
       "      <th>276</th>\n",
       "      <td>A</td>\n",
       "      <td>175</td>\n",
       "      <td>181</td>\n",
       "      <td>184</td>\n",
       "      <td>185</td>\n",
       "      <td>178</td>\n",
       "      <td>184</td>\n",
       "      <td>187</td>\n",
       "      <td>188</td>\n",
       "      <td>2</td>\n",
       "      <td>LIAFWDDNKIS</td>\n",
       "      <td>NK</td>\n",
       "      <td>SVDQKAISTIRLLAVDAVAAANSGHPGAPLGLAPAAHAVFKKMRFN...</td>\n",
       "      <td>5xvt</td>\n",
       "      <td>R</td>\n",
       "      <td>0.306875</td>\n",
       "    </tr>\n",
       "    <tr>\n",
       "      <th>341</th>\n",
       "      <td>A</td>\n",
       "      <td>29</td>\n",
       "      <td>33</td>\n",
       "      <td>36</td>\n",
       "      <td>38</td>\n",
       "      <td>32</td>\n",
       "      <td>36</td>\n",
       "      <td>39</td>\n",
       "      <td>41</td>\n",
       "      <td>2</td>\n",
       "      <td>DQTVQLGQVR</td>\n",
       "      <td>LG</td>\n",
       "      <td>ADTTTVNGGTIHFKGEVVNAACAVDAGSVDQTVQLGQVRTASLKQA...</td>\n",
       "      <td>5lp9</td>\n",
       "      <td>R</td>\n",
       "      <td>0.091426</td>\n",
       "    </tr>\n",
       "  </tbody>\n",
       "</table>\n",
       "</div>"
      ],
      "text/plain": [
       "    Chain  strand1_start_idx  strand1_end_idx  strand2_start_idx  \\\n",
       "27      A                431              432                435   \n",
       "80      A                138              141                144   \n",
       "131     A                 20               24                 27   \n",
       "207     A                 90               91                 94   \n",
       "209     A                100              101                104   \n",
       "228     A                373              374                377   \n",
       "238     A                 42               43                 46   \n",
       "240     A                 57               61                 64   \n",
       "276     A                175              181                184   \n",
       "341     A                 29               33                 36   \n",
       "\n",
       "     strand2_end_idx  strand1_start_res  strand1_end_res  strand2_start_res  \\\n",
       "27               436                440              441                444   \n",
       "80               150               1139             1142               1145   \n",
       "131               32                 45               48                 49   \n",
       "207               95                128              129                132   \n",
       "209              108                138              139                142   \n",
       "228              379                402              403                406   \n",
       "238               50                 43               44                 47   \n",
       "240               65                 58               62                 65   \n",
       "276              185                178              184                187   \n",
       "341               38                 32               36                 39   \n",
       "\n",
       "     strand2_end_res  loop_len HairpinSequence LoopSequence  \\\n",
       "27               445         2          FADDFC           DD   \n",
       "80              1151         2   VIKTVKSVGMIAG           VK   \n",
       "131               54         2   FSVTRGATKGFVT           GA   \n",
       "207              133         2          VTISGN           IS   \n",
       "209              146         2       TLTPGLYKS           TP   \n",
       "228              408         2         GYTALKD           TA   \n",
       "238               51         2       KPAGEILRI           AG   \n",
       "240               66         2       KTVICKPEV           KP   \n",
       "276              188         2     LIAFWDDNKIS           NK   \n",
       "341               41         2      DQTVQLGQVR           LG   \n",
       "\n",
       "                                     FullChainSequence   PDB handedness  \\\n",
       "27   GYVPAVVIGTGYGAAVSALRLGEAGVQTLMLEMGQLWNQPGPDGNI...  4rek          R   \n",
       "80   STPAITLENPDIKYPLRLIDKEVVNHDTRRFRFALPSPEHILGLPV...  5gv8          R   \n",
       "131  ANIVGGIEYSINNASLCSVGFSVTRGATKGFVTAGHCGTVNATARI...  2h5c          R   \n",
       "207  TVIPLQTTVQTPITLGSANNFAVIAGSSVTNTGATNITGDLGLSPG...  6eio          R   \n",
       "209  TVIPLQTTVQTPITLGSANNFAVIAGSSVTNTGATNITGDLGLSPG...  6eio          R   \n",
       "228  TPEDWKALAADVRSEFQWAWQGYVAKAWGKDEINPVSGTSRSFFIE...  4ayo          R   \n",
       "238  MEIPVIEPLFTKVTEDIPGAEGPVFDKNGDFYIVAPEVEVNGKPAG...  3o4p          R   \n",
       "240  MEIPVIEPLFTKVTEDIPGAEGPVFDKNGDFYIVAPEVEVNGKPAG...  3o4p          R   \n",
       "276  SVDQKAISTIRLLAVDAVAAANSGHPGAPLGLAPAAHAVFKKMRFN...  5xvt          R   \n",
       "341  ADTTTVNGGTIHFKGEVVNAACAVDAGSVDQTVQLGQVRTASLKQA...  5lp9          R   \n",
       "\n",
       "     handedness_magnitude  \n",
       "27               0.000206  \n",
       "80               0.138283  \n",
       "131              0.810487  \n",
       "207              0.140925  \n",
       "209              0.276572  \n",
       "228              0.262817  \n",
       "238              0.320938  \n",
       "240              0.307513  \n",
       "276              0.306875  \n",
       "341              0.091426  "
      ]
     },
     "execution_count": 18,
     "metadata": {},
     "output_type": "execute_result"
    }
   ],
   "source": [
    "all_hairpins_local[(all_hairpins_local[\"loop_len\"] == 2) & (all_hairpins_local[\"handedness\"] == \"R\")].head(10)\n"
   ]
  },
  {
   "cell_type": "markdown",
   "id": "b4fda3b3",
   "metadata": {},
   "source": [
    "### Plot only strng magnitude ones"
   ]
  },
  {
   "cell_type": "code",
   "execution_count": 19,
   "id": "62a04ee3",
   "metadata": {},
   "outputs": [
    {
     "data": {
      "text/plain": [
       "<Axes: xlabel='Loop length', ylabel='Frequency'>"
      ]
     },
     "execution_count": 19,
     "metadata": {},
     "output_type": "execute_result"
    },
    {
     "data": {
      "image/png": "[encoded data removed]",
      "text/plain": [
       "<Figure size 300x300 with 1 Axes>"
      ]
     },
     "metadata": {},
     "output_type": "display_data"
    },
    {
     "data": {
      "image/png": "[encoded data removed]",
      "text/plain": [
       "<Figure size 300x300 with 1 Axes>"
      ]
     },
     "metadata": {},
     "output_type": "display_data"
    }
   ],
   "source": [
    "plot_loop_length_chirality(all_hairpins_backbone[all_hairpins_backbone[\"handedness_magnitude\"].abs() > 0.75])\n",
    "plot_loop_length_chirality(all_hairpins_exact[all_hairpins_exact[\"handedness_magnitude\"].abs() > 0.75])"
   ]
  },
  {
   "cell_type": "markdown",
   "id": "02fd1aef",
   "metadata": {},
   "source": [
    "# Writeout all hairpins in a single pdb file"
   ]
  },
  {
   "cell_type": "code",
   "execution_count": 16,
   "id": "41e58326",
   "metadata": {},
   "outputs": [
    {
     "name": "stdout",
     "output_type": "stream",
     "text": [
      "0 hairpins selected\n",
      "✓ saved 0 aligned hairpins → hairpins_backbone_aligned.cif\n"
     ]
    }
   ],
   "source": [
    "\"\"\"\n",
    "Write an mmCIF with the first 20 β-hairpins that satisfy\n",
    "\n",
    "    • loop_len ≤ 5\n",
    "    • handedness == \"L\"\n",
    "    • |handedness_magnitude| > 0.8\n",
    "    • each flanking β-strand ≥ 5 residues\n",
    "\n",
    "**Alignment frame (backbone method)**  \n",
    "    origin      = CA of residue *before* the loop (res_pre = strand1_end)  \n",
    "    +x (u-axis) = N→C vector of res_pre                              (backbone)  \n",
    "    +y (v-axis) = CA_pre → CA_post, projected ⟂ u                    (across loop)  \n",
    "    +z (w-axis) = u × v                                              (right-handed)\n",
    "\n",
    "Each hairpin is copied into this frame (so all overlay) and stored in its own\n",
    "chain HP_0001 … HP_0020 in **hairpins_backbone_aligned.cif**.\n",
    "\"\"\"\n",
    "\n",
    "from copy import deepcopy\n",
    "import numpy as np\n",
    "from Bio.PDB import MMCIFParser, MMCIFIO, Structure, Model, Chain, Vector\n",
    "\n",
    "from dataset.io_utils  import fetch_mmcif_file\n",
    "from dataset.geometry  import get_ca_from_residue, get_cb_from_residue\n",
    "from dataset.motif_logic import compute_handedness_from_backbone_geometry   # already imported earlier\n",
    "\n",
    "# ───────────────────────────── 1 · filter DataFrame\n",
    "HP_DF = (\n",
    "    all_hairpins_backbone\n",
    "      .query(\n",
    "          \"loop_len == 2 and handedness == 'L' \"\n",
    "          \"and abs(handedness_magnitude) > 0.8 \"\n",
    "          \"and (strand1_end - strand1_start + 1) >= 5 \"\n",
    "          \"and (strand2_end - strand2_start + 1) >= 5\"\n",
    "      )\n",
    "      #.head(20)        # keep first 20\n",
    "      .reset_index(drop=True)\n",
    ")\n",
    "print(f\"{len(HP_DF)} hairpins selected\")\n",
    "\n",
    "# ───────────────────────────── 2 · Bio.PDB setup\n",
    "parser    = MMCIFParser(QUIET=True)\n",
    "structure = Structure.Structure(\"BACKBONE_ALIGNED\")\n",
    "model0    = Model.Model(0)\n",
    "structure.add(model0)\n",
    "\n",
    "def np_vec(v: Vector):\n",
    "    \"\"\"Return numpy array from Bio.PDB.Vector\"\"\"\n",
    "    return v.get_array()\n",
    "\n",
    "# ───────────────────────────── 3 · iterate hairpins\n",
    "for i, row in HP_DF.iterrows():\n",
    "    pdb_id, cid = row[\"PDB\"].lower(), row[\"Chain\"]\n",
    "    s1_start, s1_end = int(row[\"strand1_start\"]), int(row[\"strand1_end\"])\n",
    "    s2_start, s2_end = int(row[\"strand2_start\"]), int(row[\"strand2_end\"])\n",
    "\n",
    "    # source structure\n",
    "    model_src = parser.get_structure(pdb_id, fetch_mmcif_file(pdb_id))[0]\n",
    "    if cid not in model_src:\n",
    "        continue\n",
    "    chain_src = model_src[cid]\n",
    "\n",
    "    try:\n",
    "        res_pre  = chain_src[(\" \", s1_end,   \" \")]  # before loop\n",
    "        res_post = chain_src[(\" \", s2_start, \" \")]  # after  loop\n",
    "    except KeyError:\n",
    "        continue\n",
    "\n",
    "    # backbone frame\n",
    "    ca_pre = np_vec(get_ca_from_residue(res_pre))\n",
    "    ca_post= np_vec(get_ca_from_residue(res_post))\n",
    "    if ca_pre is None or ca_post is None:\n",
    "        continue\n",
    "\n",
    "    u = np_vec(Vector(res_pre[\"C\"].get_coord()) - Vector(res_pre[\"N\"].get_coord()))\n",
    "    u /= np.linalg.norm(u)\n",
    "\n",
    "    v_raw = ca_post - ca_pre\n",
    "    v_raw -= np.dot(v_raw, u) * u\n",
    "    v = v_raw / np.linalg.norm(v_raw)\n",
    "\n",
    "    w = np.cross(u, v)\n",
    "    R = np.vstack((u, v, w)).T            # local→global; use R.T to rotate coords into frame\n",
    "\n",
    "    # copy residues, transform\n",
    "    new_chain = Chain.Chain(f\"HP_{i+1:04d}\")\n",
    "    for resseq in range(s1_start, s2_end + 1):\n",
    "        key = (\" \", resseq, \" \")\n",
    "        if key not in chain_src:\n",
    "            continue\n",
    "        res = deepcopy(chain_src[key])\n",
    "        for atom in res.get_atoms():\n",
    "            xyz = atom.get_vector().get_array() - ca_pre   # translate to origin\n",
    "            atom.set_coord(R.T @ xyz)                      # rotate into frame\n",
    "        new_chain.add(res)\n",
    "\n",
    "    model0.add(new_chain)\n",
    "\n",
    "# ───────────────────────────── 4 · write mmCIF\n",
    "out_cif = \"hairpins_backbone_aligned.cif\"\n",
    "writer  = MMCIFIO()\n",
    "writer.set_structure(structure)\n",
    "writer.save(out_cif)\n",
    "\n",
    "print(f\"✓ saved {len(model0.child_list)} aligned hairpins → {out_cif}\")\n"
   ]
  },
  {
   "cell_type": "code",
   "execution_count": null,
   "id": "68141e18",
   "metadata": {},
   "outputs": [],
   "source": []
  },
  {
   "cell_type": "code",
   "execution_count": null,
   "id": "d60bac33",
   "metadata": {},
   "outputs": [],
   "source": []
  },
  {
   "cell_type": "code",
   "execution_count": null,
   "id": "b45e65cf",
   "metadata": {},
   "outputs": [],
   "source": []
  },
  {
   "cell_type": "code",
   "execution_count": null,
   "id": "8cdd6235",
   "metadata": {},
   "outputs": [],
   "source": []
  },
  {
   "cell_type": "code",
   "execution_count": null,
   "id": "30c6f7a0",
   "metadata": {},
   "outputs": [],
   "source": []
  },
  {
   "cell_type": "code",
   "execution_count": null,
   "id": "02f2689b",
   "metadata": {},
   "outputs": [],
   "source": []
  },
  {
   "cell_type": "code",
   "execution_count": null,
   "id": "90d99dd4",
   "metadata": {},
   "outputs": [],
   "source": []
  },
  {
   "cell_type": "markdown",
   "id": "393ed24c",
   "metadata": {},
   "source": [
    "# Other sanity checks"
   ]
  },
  {
   "cell_type": "markdown",
   "id": "429d0939",
   "metadata": {},
   "source": [
    "### Check C-b generation function"
   ]
  },
  {
   "cell_type": "code",
   "execution_count": 17,
   "id": "ff3401d2",
   "metadata": {},
   "outputs": [
    {
     "name": "stdout",
     "output_type": "stream",
     "text": [
      "wrote /Users/shuber/Development/FoldingPrinciplesDataset/notebooks/test_ala_cb.pdb\n",
      "CA–CB bond length  : 1.5220000000000002 Å (expect 1.522 )\n",
      "∠N-CA-CB           : 101.02236461655833 °  (expect ≈109.5°)\n",
      "∠C-CA-CB           : 101.02236461655835 °  (expect ≈109.5°)\n"
     ]
    },
    {
     "name": "stderr",
     "output_type": "stream",
     "text": [
      "/opt/anaconda3/envs/folding-dssp/lib/python3.9/site-packages/Bio/PDB/Atom.py:237: PDBConstructionWarning: Used element 'N' for Atom (name=N) with given element None\n",
      "  warnings.warn(msg, PDBConstructionWarning)\n",
      "/opt/anaconda3/envs/folding-dssp/lib/python3.9/site-packages/Bio/PDB/Atom.py:237: PDBConstructionWarning: Used element 'CA' for Atom (name=CA) with given element None\n",
      "  warnings.warn(msg, PDBConstructionWarning)\n",
      "/opt/anaconda3/envs/folding-dssp/lib/python3.9/site-packages/Bio/PDB/Atom.py:237: PDBConstructionWarning: Used element 'C' for Atom (name=C) with given element None\n",
      "  warnings.warn(msg, PDBConstructionWarning)\n"
     ]
    }
   ],
   "source": [
    "\"\"\"\n",
    "Generate a minimal Ala residue, compute its Cβ with the library function\n",
    "`get_cb_from_residue`, and write the four atoms to *test_ala_cb.pdb*.\n",
    "\n",
    "Run this after you have installed the project (so that\n",
    "`dataset.geometry.get_cb_from_residue` is importable).\n",
    "\"\"\"\n",
    "\n",
    "import math\n",
    "import numpy as np\n",
    "from pathlib import Path\n",
    "from Bio.PDB import Atom, Residue, Vector\n",
    "from dataset.geometry import get_cb_from_residue, CA_CB_BOND\n",
    "\n",
    "# ───────────────────────────────────────────────────────────────── backbone coords\n",
    "# realistic peptide geometry (Engh & Huber)\n",
    "CA = np.array([0.000, 0.000, 0.000])\n",
    "N  = np.array([1.458, 0.000, 0.000])                      # CA–N  1.458 Å\n",
    "C  = np.array([\n",
    "    1.525 * math.cos(math.radians(110.0)),                # CA–C  1.525 Å\n",
    "    1.525 * math.sin(math.radians(110.0)),\n",
    "    0.000\n",
    "])\n",
    "\n",
    "# ───────────────────────────────────────────────────────────────── build residue\n",
    "res = Residue.Residue((\" \", 1, \" \"), \"ALA\", \"\")\n",
    "res.add(Atom.Atom(\"N\",  N,  0.0, 0.0, \" \", \"N\",  1))\n",
    "res.add(Atom.Atom(\"CA\", CA, 0.0, 0.0, \" \", \"CA\", 2))\n",
    "res.add(Atom.Atom(\"C\",  C,  0.0, 0.0, \" \", \"C\",  3))\n",
    "\n",
    "# ───────────────────────────────────────────────────────────────── compute Cβ\n",
    "CB_vec = get_cb_from_residue(res)\n",
    "assert CB_vec is not None, \"get_cb_from_residue returned None\"\n",
    "CB = CB_vec.get_array()\n",
    "\n",
    "# ───────────────────────────────────────────────────────────────── write PDB\n",
    "lines = [\n",
    "    \"ATOM      1  N   ALA A   1    %8.3f%8.3f%8.3f  1.00  0.00           N\\n\" % tuple(N),\n",
    "    \"ATOM      2  CA  ALA A   1    %8.3f%8.3f%8.3f  1.00  0.00           C\\n\" % tuple(CA),\n",
    "    \"ATOM      3  C   ALA A   1    %8.3f%8.3f%8.3f  1.00  0.00           C\\n\" % tuple(C),\n",
    "    \"ATOM      4  CB  ALA A   1    %8.3f%8.3f%8.3f  1.00  0.00           C\\n\" % tuple(CB),\n",
    "    \"TER\\nEND\\n\",\n",
    "]\n",
    "\n",
    "out = Path(\"test_ala_cb.pdb\")\n",
    "out.write_text(\"\".join(lines))\n",
    "print(f\"wrote {out.resolve()}\")\n",
    "\n",
    "# ═══════════════════════════════════════════════════════════════════════════════\n",
    "# optional sanity check\n",
    "import numpy as np\n",
    "def angle(a, b, c):\n",
    "    v1 = a - b\n",
    "    v2 = c - b\n",
    "    return math.degrees(\n",
    "        math.acos(np.dot(v1, v2) / (np.linalg.norm(v1) * np.linalg.norm(v2)))\n",
    "    )\n",
    "\n",
    "print(\"CA–CB bond length  :\", np.linalg.norm(CB - CA), \"Å (expect\", CA_CB_BOND, \")\")\n",
    "print(\"∠N-CA-CB           :\", angle(N, CA, CB), \"°  (expect ≈109.5°)\")\n",
    "print(\"∠C-CA-CB           :\", angle(C, CA, CB), \"°  (expect ≈109.5°)\")\n"
   ]
  },
  {
   "cell_type": "code",
   "execution_count": null,
   "id": "d725323b",
   "metadata": {},
   "outputs": [],
   "source": []
  },
  {
   "cell_type": "code",
   "execution_count": null,
   "id": "86aa23dc",
   "metadata": {},
   "outputs": [],
   "source": []
  },
  {
   "cell_type": "code",
   "execution_count": null,
   "id": "0e4e3fc7",
   "metadata": {},
   "outputs": [],
   "source": []
  },
  {
   "cell_type": "code",
   "execution_count": null,
   "id": "edaf56ed",
   "metadata": {},
   "outputs": [],
   "source": []
  },
  {
   "cell_type": "code",
   "execution_count": null,
   "id": "07795597",
   "metadata": {},
   "outputs": [],
   "source": []
  },
  {
   "cell_type": "code",
   "execution_count": null,
   "id": "8f0a2c8d",
   "metadata": {},
   "outputs": [],
   "source": []
  }
 ],
 "metadata": {
  "kernelspec": {
   "display_name": "folding-dssp",
   "language": "python",
   "name": "python3"
  },
  "language_info": {
   "codemirror_mode": {
    "name": "ipython",
    "version": 3
   },
   "file_extension": ".py",
   "mimetype": "text/x-python",
   "name": "python",
   "nbconvert_exporter": "python",
   "pygments_lexer": "ipython3",
   "version": "3.9.22"
  }
 },
 "nbformat": 4,
 "nbformat_minor": 5
}
