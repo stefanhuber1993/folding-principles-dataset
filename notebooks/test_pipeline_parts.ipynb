{
 "cells": [
  {
   "cell_type": "markdown",
   "id": "ebfb78fd",
   "metadata": {},
   "source": [
    "# Protein Folding Principles Dataset"
   ]
  },
  {
   "cell_type": "code",
   "execution_count": 1,
   "id": "3f70b3aa",
   "metadata": {},
   "outputs": [],
   "source": [
    "import matplotlib.pyplot as plt"
   ]
  },
  {
   "cell_type": "code",
   "execution_count": 2,
   "id": "05df15d0",
   "metadata": {},
   "outputs": [],
   "source": [
    "#Change root directory to the project root\n",
    "#This is necessary to import modules from the project\n",
    "#without having to install them\n",
    "\n",
    "import sys\n",
    "import os\n",
    "project_root = os.path.abspath(os.path.join(os.getcwd(), \"..\"))\n",
    "if project_root not in sys.path:\n",
    "    sys.path.insert(0, project_root)"
   ]
  },
  {
   "cell_type": "code",
   "execution_count": 3,
   "id": "f3d3fe7a",
   "metadata": {},
   "outputs": [],
   "source": [
    "## Interactive reloading\n",
    "#This is useful for Jupyter notebooks to automatically reload modules\n",
    "\n",
    "%load_ext autoreload\n",
    "%autoreload 2"
   ]
  },
  {
   "cell_type": "markdown",
   "id": "cd4697c2",
   "metadata": {},
   "source": [
    "## Get PDB codes for high quality structures using PISCES"
   ]
  },
  {
   "cell_type": "code",
   "execution_count": 4,
   "id": "615ea829",
   "metadata": {},
   "outputs": [
    {
     "name": "stdout",
     "output_type": "stream",
     "text": [
      "Detected PISCES columns: ['PDBchain', 'len', 'method', 'resol', 'rfac', 'freerfac']\n",
      "Found 11116 high-quality structures with pdb codes.\n",
      "['5D8V', '5NW3', '1UCS', '3X2M', '2VB1', '1US0', '6E6O', '6S2M', '1R6J', '4REK']\n"
     ]
    }
   ],
   "source": [
    "from dataset.pisces import fetch_pisces_table, get_filtered_pdb_codes\n",
    "\n",
    "# Fetch and filter\n",
    "pisces_df = fetch_pisces_table()\n",
    "pdb_ids = get_filtered_pdb_codes(pisces_df)\n",
    "\n",
    "# Preview results\n",
    "print(f\"Found {len(pdb_ids)} high-quality structures with pdb codes.\")\n",
    "print(pdb_ids[:10])\n"
   ]
  },
  {
   "cell_type": "markdown",
   "id": "53194649",
   "metadata": {},
   "source": [
    "## Find beta-beta patterns and their chirality in PDB entries"
   ]
  },
  {
   "cell_type": "code",
   "execution_count": 5,
   "id": "51a6b932",
   "metadata": {},
   "outputs": [
    {
     "name": "stderr",
     "output_type": "stream",
     "text": [
      "Processing PDBs:   6%|▌         | 689/11116 [04:06<56:30,  3.08it/s]  /opt/anaconda3/envs/folding-dssp/lib/python3.9/site-packages/Bio/PDB/DSSP.py:199: UserWarning: DSSP could not be created due to an error:\n",
      "bad lexical cast: source type value could not be interpreted as target\n",
      "\n",
      "  warnings.warn(err)\n",
      "/Users/shuber/Development/FoldingPrinciplesDataset/dataset/io_utils.py:57: RuntimeWarning: DSSP failed for 2yln: DSSP failed to produce an output\n",
      "  warnings.warn(f\"DSSP failed for {pdb_id}: {e}\", RuntimeWarning)\n",
      "Processing PDBs:   6%|▌         | 690/11116 [04:06<49:38,  3.50it/s]"
     ]
    },
    {
     "name": "stdout",
     "output_type": "stream",
     "text": [
      "DSSP failed for 2YLN. Skipping.\n"
     ]
    },
    {
     "name": "stderr",
     "output_type": "stream",
     "text": [
      "Processing PDBs:  31%|███▏      | 3481/11116 [22:32<37:23,  3.40it/s]  /opt/anaconda3/envs/folding-dssp/lib/python3.9/site-packages/Bio/PDB/DSSP.py:199: UserWarning: DSSP could not be created due to an error:\n",
      "bad lexical cast: source type value could not be interpreted as target\n",
      "\n",
      "  warnings.warn(err)\n",
      "/Users/shuber/Development/FoldingPrinciplesDataset/dataset/io_utils.py:57: RuntimeWarning: DSSP failed for 2ibn: DSSP failed to produce an output\n",
      "  warnings.warn(f\"DSSP failed for {pdb_id}: {e}\", RuntimeWarning)\n",
      "Processing PDBs:  31%|███▏      | 3482/11116 [22:33<34:12,  3.72it/s]"
     ]
    },
    {
     "name": "stdout",
     "output_type": "stream",
     "text": [
      "DSSP failed for 2IBN. Skipping.\n"
     ]
    },
    {
     "name": "stderr",
     "output_type": "stream",
     "text": [
      "Processing PDBs:  33%|███▎      | 3713/11116 [24:01<37:16,  3.31it/s]  /Users/shuber/Development/FoldingPrinciplesDataset/dataset/io_utils.py:57: RuntimeWarning: DSSP failed for 3tos: Structure/DSSP mismatch at <Residue SAH het=H_SAH resseq=258 icode= >\n",
      "  warnings.warn(f\"DSSP failed for {pdb_id}: {e}\", RuntimeWarning)\n",
      "Processing PDBs:  33%|███▎      | 3714/11116 [24:03<1:41:16,  1.22it/s]"
     ]
    },
    {
     "name": "stdout",
     "output_type": "stream",
     "text": [
      "DSSP failed for 3TOS. Skipping.\n"
     ]
    },
    {
     "name": "stderr",
     "output_type": "stream",
     "text": [
      "Processing PDBs:  43%|████▎     | 4822/11116 [32:43<44:00,  2.38it/s]  /Users/shuber/Development/FoldingPrinciplesDataset/dataset/io_utils.py:57: RuntimeWarning: DSSP failed for 3zeu: Structure/DSSP mismatch at <Residue MET het=  resseq=194 icode= >\n",
      "  warnings.warn(f\"DSSP failed for {pdb_id}: {e}\", RuntimeWarning)\n",
      "Processing PDBs:  43%|████▎     | 4823/11116 [32:44<50:46,  2.07it/s]"
     ]
    },
    {
     "name": "stdout",
     "output_type": "stream",
     "text": [
      "DSSP failed for 3ZEU. Skipping.\n"
     ]
    },
    {
     "name": "stderr",
     "output_type": "stream",
     "text": [
      "Processing PDBs:  46%|████▋     | 5162/11116 [35:56<37:22,  2.66it/s]  /Users/shuber/Development/FoldingPrinciplesDataset/dataset/io_utils.py:57: RuntimeWarning: DSSP failed for 6dwd: Structure/DSSP mismatch at <Residue NA het=H_NA resseq=712 icode= >\n",
      "  warnings.warn(f\"DSSP failed for {pdb_id}: {e}\", RuntimeWarning)\n",
      "Processing PDBs:  46%|████▋     | 5163/11116 [35:57<56:14,  1.76it/s]"
     ]
    },
    {
     "name": "stdout",
     "output_type": "stream",
     "text": [
      "DSSP failed for 6DWD. Skipping.\n"
     ]
    },
    {
     "name": "stderr",
     "output_type": "stream",
     "text": [
      "Processing PDBs:  56%|█████▌    | 6205/11116 [57:33<2:27:24,  1.80s/it]/Users/shuber/Development/FoldingPrinciplesDataset/dataset/io_utils.py:57: RuntimeWarning: DSSP failed for 5le5: Structure/DSSP mismatch at <Residue ARG het=  resseq=3 icode= >\n",
      "  warnings.warn(f\"DSSP failed for {pdb_id}: {e}\", RuntimeWarning)\n",
      "Processing PDBs:  56%|█████▌    | 6206/11116 [57:38<3:59:42,  2.93s/it]"
     ]
    },
    {
     "name": "stdout",
     "output_type": "stream",
     "text": [
      "DSSP failed for 5LE5. Skipping.\n"
     ]
    },
    {
     "name": "stderr",
     "output_type": "stream",
     "text": [
      "Processing PDBs:  60%|██████    | 6720/11116 [1:10:41<1:55:40,  1.58s/it]/Users/shuber/Development/FoldingPrinciplesDataset/dataset/io_utils.py:57: RuntimeWarning: DSSP failed for 5b66: Structure/DSSP mismatch at <Residue ALA het=  resseq=11 icode= >\n",
      "  warnings.warn(f\"DSSP failed for {pdb_id}: {e}\", RuntimeWarning)\n",
      "Processing PDBs:  60%|██████    | 6721/11116 [1:10:45<2:51:27,  2.34s/it]"
     ]
    },
    {
     "name": "stdout",
     "output_type": "stream",
     "text": [
      "DSSP failed for 5B66. Skipping.\n"
     ]
    },
    {
     "name": "stderr",
     "output_type": "stream",
     "text": [
      "Processing PDBs:  63%|██████▎   | 7013/11116 [1:18:19<1:46:51,  1.56s/it]/Users/shuber/Development/FoldingPrinciplesDataset/dataset/io_utils.py:57: RuntimeWarning: DSSP failed for 7rf1: Structure/DSSP mismatch at <Residue ALA het=  resseq=11 icode= >\n",
      "  warnings.warn(f\"DSSP failed for {pdb_id}: {e}\", RuntimeWarning)\n",
      "Processing PDBs:  63%|██████▎   | 7014/11116 [1:18:26<3:27:04,  3.03s/it]"
     ]
    },
    {
     "name": "stdout",
     "output_type": "stream",
     "text": [
      "DSSP failed for 7RF1. Skipping.\n"
     ]
    },
    {
     "name": "stderr",
     "output_type": "stream",
     "text": [
      "Processing PDBs:  65%|██████▍   | 7207/11116 [1:23:55<1:44:56,  1.61s/it]/Users/shuber/Development/FoldingPrinciplesDataset/dataset/io_utils.py:57: RuntimeWarning: DSSP failed for 5y5s: Structure/DSSP mismatch at <Residue CYS het=  resseq=23 icode= >\n",
      "  warnings.warn(f\"DSSP failed for {pdb_id}: {e}\", RuntimeWarning)\n",
      "Processing PDBs:  65%|██████▍   | 7208/11116 [1:23:59<2:27:08,  2.26s/it]"
     ]
    },
    {
     "name": "stdout",
     "output_type": "stream",
     "text": [
      "DSSP failed for 5Y5S. Skipping.\n"
     ]
    },
    {
     "name": "stderr",
     "output_type": "stream",
     "text": [
      "Processing PDBs:  69%|██████▉   | 7715/11116 [1:37:07<1:34:26,  1.67s/it]/Users/shuber/Development/FoldingPrinciplesDataset/dataset/io_utils.py:57: RuntimeWarning: DSSP failed for 6l8a: Structure/DSSP mismatch at <Residue SO4 het=H_SO4 resseq=504 icode= >\n",
      "  warnings.warn(f\"DSSP failed for {pdb_id}: {e}\", RuntimeWarning)\n",
      "Processing PDBs:  69%|██████▉   | 7716/11116 [1:37:09<1:47:02,  1.89s/it]"
     ]
    },
    {
     "name": "stdout",
     "output_type": "stream",
     "text": [
      "DSSP failed for 6L8A. Skipping.\n"
     ]
    },
    {
     "name": "stderr",
     "output_type": "stream",
     "text": [
      "Processing PDBs:  78%|███████▊  | 8684/11116 [2:02:41<1:10:29,  1.74s/it]/Users/shuber/Development/FoldingPrinciplesDataset/dataset/io_utils.py:57: RuntimeWarning: DSSP failed for 6dhp: Structure/DSSP mismatch at <Residue ALA het=  resseq=11 icode= >\n",
      "  warnings.warn(f\"DSSP failed for {pdb_id}: {e}\", RuntimeWarning)\n",
      "Processing PDBs:  78%|███████▊  | 8685/11116 [2:02:47<2:02:04,  3.01s/it]"
     ]
    },
    {
     "name": "stdout",
     "output_type": "stream",
     "text": [
      "DSSP failed for 6DHP. Skipping.\n"
     ]
    },
    {
     "name": "stderr",
     "output_type": "stream",
     "text": [
      "Processing PDBs:  82%|████████▏ | 9112/11116 [2:14:47<1:26:15,  2.58s/it]/opt/anaconda3/envs/folding-dssp/lib/python3.9/site-packages/Bio/PDB/DSSP.py:199: UserWarning: DSSP could not be created due to an error:\n",
      "bad lexical cast: source type value could not be interpreted as target\n",
      "\n",
      "  warnings.warn(err)\n",
      "/Users/shuber/Development/FoldingPrinciplesDataset/dataset/io_utils.py:57: RuntimeWarning: DSSP failed for 5haz: DSSP failed to produce an output\n",
      "  warnings.warn(f\"DSSP failed for {pdb_id}: {e}\", RuntimeWarning)\n",
      "Processing PDBs:  82%|████████▏ | 9113/11116 [2:14:49<1:16:08,  2.28s/it]"
     ]
    },
    {
     "name": "stdout",
     "output_type": "stream",
     "text": [
      "DSSP failed for 5HAZ. Skipping.\n"
     ]
    },
    {
     "name": "stderr",
     "output_type": "stream",
     "text": [
      "Processing PDBs:  82%|████████▏ | 9157/11116 [2:15:53<42:50,  1.31s/it]  /Users/shuber/Development/FoldingPrinciplesDataset/dataset/io_utils.py:57: RuntimeWarning: DSSP failed for 4ybb: Structure/DSSP mismatch at <Residue SER het=  resseq=5 icode= >\n",
      "  warnings.warn(f\"DSSP failed for {pdb_id}: {e}\", RuntimeWarning)\n",
      "Processing PDBs:  82%|████████▏ | 9158/11116 [2:16:11<3:25:33,  6.30s/it]"
     ]
    },
    {
     "name": "stdout",
     "output_type": "stream",
     "text": [
      "DSSP failed for 4YBB. Skipping.\n"
     ]
    },
    {
     "name": "stderr",
     "output_type": "stream",
     "text": [
      "Processing PDBs:  86%|████████▋ | 9612/11116 [2:29:05<38:51,  1.55s/it]  /Users/shuber/Development/FoldingPrinciplesDataset/dataset/io_utils.py:57: RuntimeWarning: DSSP failed for 5x2n: (' ', 951, ' ')\n",
      "  warnings.warn(f\"DSSP failed for {pdb_id}: {e}\", RuntimeWarning)\n",
      "Processing PDBs:  86%|████████▋ | 9613/11116 [2:29:09<52:33,  2.10s/it]"
     ]
    },
    {
     "name": "stdout",
     "output_type": "stream",
     "text": [
      "DSSP failed for 5X2N. Skipping.\n"
     ]
    },
    {
     "name": "stderr",
     "output_type": "stream",
     "text": [
      "Processing PDBs:  87%|████████▋ | 9694/11116 [2:31:24<38:21,  1.62s/it]/Users/shuber/Development/FoldingPrinciplesDataset/dataset/io_utils.py:57: RuntimeWarning: DSSP failed for 1vqo: Structure/DSSP mismatch at <Residue ARG het=  resseq=2 icode= >\n",
      "  warnings.warn(f\"DSSP failed for {pdb_id}: {e}\", RuntimeWarning)\n",
      "Processing PDBs:  87%|████████▋ | 9695/11116 [2:31:30<1:10:56,  3.00s/it]"
     ]
    },
    {
     "name": "stdout",
     "output_type": "stream",
     "text": [
      "DSSP failed for 1VQO. Skipping.\n"
     ]
    },
    {
     "name": "stderr",
     "output_type": "stream",
     "text": [
      "Processing PDBs:  88%|████████▊ | 9736/11116 [2:32:42<43:59,  1.91s/it]  /Users/shuber/Development/FoldingPrinciplesDataset/dataset/io_utils.py:57: RuntimeWarning: DSSP failed for 3mi0: (' ', 203, ' ')\n",
      "  warnings.warn(f\"DSSP failed for {pdb_id}: {e}\", RuntimeWarning)\n",
      "Processing PDBs:  88%|████████▊ | 9737/11116 [2:32:46<59:20,  2.58s/it]"
     ]
    },
    {
     "name": "stdout",
     "output_type": "stream",
     "text": [
      "DSSP failed for 3MI0. Skipping.\n"
     ]
    },
    {
     "name": "stderr",
     "output_type": "stream",
     "text": [
      "Processing PDBs:  91%|█████████ | 10127/11116 [2:43:47<27:22,  1.66s/it]/opt/anaconda3/envs/folding-dssp/lib/python3.9/site-packages/Bio/PDB/DSSP.py:199: UserWarning: DSSP could not be created due to an error:\n",
      "bad lexical cast: source type value could not be interpreted as target\n",
      "\n",
      "  warnings.warn(err)\n",
      "/Users/shuber/Development/FoldingPrinciplesDataset/dataset/io_utils.py:57: RuntimeWarning: DSSP failed for 5m5e: DSSP failed to produce an output\n",
      "  warnings.warn(f\"DSSP failed for {pdb_id}: {e}\", RuntimeWarning)\n",
      "Processing PDBs:  91%|█████████ | 10128/11116 [2:43:48<26:37,  1.62s/it]"
     ]
    },
    {
     "name": "stdout",
     "output_type": "stream",
     "text": [
      "DSSP failed for 5M5E. Skipping.\n"
     ]
    },
    {
     "name": "stderr",
     "output_type": "stream",
     "text": [
      "Processing PDBs:  92%|█████████▏| 10174/11116 [2:45:07<32:30,  2.07s/it]/Users/shuber/Development/FoldingPrinciplesDataset/dataset/io_utils.py:57: RuntimeWarning: DSSP failed for 4y4o: Structure/DSSP mismatch at <Residue VAL het=  resseq=3 icode= >\n",
      "  warnings.warn(f\"DSSP failed for {pdb_id}: {e}\", RuntimeWarning)\n",
      "Processing PDBs:  92%|█████████▏| 10175/11116 [2:45:24<1:44:19,  6.65s/it]"
     ]
    },
    {
     "name": "stdout",
     "output_type": "stream",
     "text": [
      "DSSP failed for 4Y4O. Skipping.\n"
     ]
    },
    {
     "name": "stderr",
     "output_type": "stream",
     "text": [
      "Processing PDBs:  94%|█████████▎| 10400/11116 [2:51:35<22:46,  1.91s/it]  /Users/shuber/Development/FoldingPrinciplesDataset/dataset/io_utils.py:57: RuntimeWarning: DSSP failed for 6yn1: Structure/DSSP mismatch at <Residue ARG het=  resseq=35 icode= >\n",
      "  warnings.warn(f\"DSSP failed for {pdb_id}: {e}\", RuntimeWarning)\n",
      "Processing PDBs:  94%|█████████▎| 10401/11116 [2:51:39<27:39,  2.32s/it]"
     ]
    },
    {
     "name": "stdout",
     "output_type": "stream",
     "text": [
      "DSSP failed for 6YN1. Skipping.\n"
     ]
    },
    {
     "name": "stderr",
     "output_type": "stream",
     "text": [
      "Processing PDBs:  94%|█████████▍| 10479/11116 [2:53:53<18:40,  1.76s/it]/opt/anaconda3/envs/folding-dssp/lib/python3.9/site-packages/Bio/PDB/DSSP.py:199: UserWarning: DSSP could not be created due to an error:\n",
      "bad lexical cast: source type value could not be interpreted as target\n",
      "\n",
      "  warnings.warn(err)\n",
      "/Users/shuber/Development/FoldingPrinciplesDataset/dataset/io_utils.py:57: RuntimeWarning: DSSP failed for 4w66: DSSP failed to produce an output\n",
      "  warnings.warn(f\"DSSP failed for {pdb_id}: {e}\", RuntimeWarning)\n",
      "Processing PDBs:  94%|█████████▍| 10480/11116 [2:53:55<17:38,  1.66s/it]"
     ]
    },
    {
     "name": "stdout",
     "output_type": "stream",
     "text": [
      "DSSP failed for 4W66. Skipping.\n"
     ]
    },
    {
     "name": "stderr",
     "output_type": "stream",
     "text": [
      "Processing PDBs:  97%|█████████▋| 10754/11116 [3:01:56<08:43,  1.45s/it]/Users/shuber/Development/FoldingPrinciplesDataset/dataset/io_utils.py:57: RuntimeWarning: DSSP failed for 4v9f: Structure/DSSP mismatch at <Residue GLY het=  resseq=1 icode= >\n",
      "  warnings.warn(f\"DSSP failed for {pdb_id}: {e}\", RuntimeWarning)\n",
      "Processing PDBs:  97%|█████████▋| 10755/11116 [3:02:03<18:15,  3.03s/it]"
     ]
    },
    {
     "name": "stdout",
     "output_type": "stream",
     "text": [
      "DSSP failed for 4V9F. Skipping.\n"
     ]
    },
    {
     "name": "stderr",
     "output_type": "stream",
     "text": [
      "Processing PDBs:  97%|█████████▋| 10793/11116 [3:03:11<11:40,  2.17s/it]/Users/shuber/Development/FoldingPrinciplesDataset/dataset/io_utils.py:57: RuntimeWarning: DSSP failed for 3h6i: (' ', 301, ' ')\n",
      "  warnings.warn(f\"DSSP failed for {pdb_id}: {e}\", RuntimeWarning)\n",
      "Processing PDBs:  97%|█████████▋| 10794/11116 [3:03:15<14:25,  2.69s/it]"
     ]
    },
    {
     "name": "stdout",
     "output_type": "stream",
     "text": [
      "DSSP failed for 3H6I. Skipping.\n"
     ]
    },
    {
     "name": "stderr",
     "output_type": "stream",
     "text": [
      "Processing PDBs: 100%|██████████| 11116/11116 [3:12:49<00:00,  1.04s/it]\n"
     ]
    },
    {
     "data": {
      "text/html": [
       "<div>\n",
       "<style scoped>\n",
       "    .dataframe tbody tr th:only-of-type {\n",
       "        vertical-align: middle;\n",
       "    }\n",
       "\n",
       "    .dataframe tbody tr th {\n",
       "        vertical-align: top;\n",
       "    }\n",
       "\n",
       "    .dataframe thead th {\n",
       "        text-align: right;\n",
       "    }\n",
       "</style>\n",
       "<table border=\"1\" class=\"dataframe\">\n",
       "  <thead>\n",
       "    <tr style=\"text-align: right;\">\n",
       "      <th></th>\n",
       "      <th>Chain</th>\n",
       "      <th>strand1_start_idx</th>\n",
       "      <th>strand1_end_idx</th>\n",
       "      <th>strand2_start_idx</th>\n",
       "      <th>strand2_end_idx</th>\n",
       "      <th>strand1_start_res</th>\n",
       "      <th>strand1_end_res</th>\n",
       "      <th>strand2_start_res</th>\n",
       "      <th>strand2_end_res</th>\n",
       "      <th>loop_len</th>\n",
       "      <th>HairpinSequence</th>\n",
       "      <th>LoopSequence</th>\n",
       "      <th>FullChainSequence</th>\n",
       "      <th>PDB</th>\n",
       "      <th>handedness</th>\n",
       "      <th>handedness_magnitude</th>\n",
       "    </tr>\n",
       "  </thead>\n",
       "  <tbody>\n",
       "    <tr>\n",
       "      <th>0</th>\n",
       "      <td>A</td>\n",
       "      <td>45</td>\n",
       "      <td>46</td>\n",
       "      <td>48</td>\n",
       "      <td>54</td>\n",
       "      <td>46</td>\n",
       "      <td>47</td>\n",
       "      <td>49</td>\n",
       "      <td>55</td>\n",
       "      <td>1</td>\n",
       "      <td>CQFMQANVGE</td>\n",
       "      <td>F</td>\n",
       "      <td>AAPANAVTADDPTAIALKYNQDATKSERVAAARPGLPPEEQHCANC...</td>\n",
       "      <td>5d8v</td>\n",
       "      <td>L</td>\n",
       "      <td>-0.340642</td>\n",
       "    </tr>\n",
       "    <tr>\n",
       "      <th>1</th>\n",
       "      <td>A</td>\n",
       "      <td>48</td>\n",
       "      <td>54</td>\n",
       "      <td>57</td>\n",
       "      <td>60</td>\n",
       "      <td>49</td>\n",
       "      <td>55</td>\n",
       "      <td>58</td>\n",
       "      <td>61</td>\n",
       "      <td>2</td>\n",
       "      <td>MQANVGEGDWKGC</td>\n",
       "      <td>GD</td>\n",
       "      <td>AAPANAVTADDPTAIALKYNQDATKSERVAAARPGLPPEEQHCANC...</td>\n",
       "      <td>5d8v</td>\n",
       "      <td>L</td>\n",
       "      <td>-0.873705</td>\n",
       "    </tr>\n",
       "    <tr>\n",
       "      <th>2</th>\n",
       "      <td>A</td>\n",
       "      <td>67</td>\n",
       "      <td>69</td>\n",
       "      <td>73</td>\n",
       "      <td>74</td>\n",
       "      <td>68</td>\n",
       "      <td>70</td>\n",
       "      <td>74</td>\n",
       "      <td>75</td>\n",
       "      <td>3</td>\n",
       "      <td>LINVNGWC</td>\n",
       "      <td>VNG</td>\n",
       "      <td>AAPANAVTADDPTAIALKYNQDATKSERVAAARPGLPPEEQHCANC...</td>\n",
       "      <td>5d8v</td>\n",
       "      <td>L</td>\n",
       "      <td>-0.978780</td>\n",
       "    </tr>\n",
       "    <tr>\n",
       "      <th>3</th>\n",
       "      <td>A</td>\n",
       "      <td>73</td>\n",
       "      <td>74</td>\n",
       "      <td>79</td>\n",
       "      <td>80</td>\n",
       "      <td>74</td>\n",
       "      <td>75</td>\n",
       "      <td>80</td>\n",
       "      <td>81</td>\n",
       "      <td>4</td>\n",
       "      <td>WCASWTLK</td>\n",
       "      <td>ASWT</td>\n",
       "      <td>AAPANAVTADDPTAIALKYNQDATKSERVAAARPGLPPEEQHCANC...</td>\n",
       "      <td>5d8v</td>\n",
       "      <td>L</td>\n",
       "      <td>-0.955260</td>\n",
       "    </tr>\n",
       "    <tr>\n",
       "      <th>4</th>\n",
       "      <td>A</td>\n",
       "      <td>2</td>\n",
       "      <td>5</td>\n",
       "      <td>11</td>\n",
       "      <td>13</td>\n",
       "      <td>2</td>\n",
       "      <td>5</td>\n",
       "      <td>11</td>\n",
       "      <td>13</td>\n",
       "      <td>5</td>\n",
       "      <td>KWVCKICGYIYD</td>\n",
       "      <td>KICGY</td>\n",
       "      <td>MAKWVCKICGYIYDEDAGDPDNGISPGTKFEELPDDWVCPICGAPK...</td>\n",
       "      <td>5nw3</td>\n",
       "      <td>L</td>\n",
       "      <td>-0.486571</td>\n",
       "    </tr>\n",
       "    <tr>\n",
       "      <th>5</th>\n",
       "      <td>A</td>\n",
       "      <td>11</td>\n",
       "      <td>13</td>\n",
       "      <td>18</td>\n",
       "      <td>19</td>\n",
       "      <td>11</td>\n",
       "      <td>13</td>\n",
       "      <td>18</td>\n",
       "      <td>19</td>\n",
       "      <td>4</td>\n",
       "      <td>IYDEDAGDP</td>\n",
       "      <td>EDAG</td>\n",
       "      <td>MAKWVCKICGYIYDEDAGDPDNGISPGTKFEELPDDWVCPICGAPK...</td>\n",
       "      <td>5nw3</td>\n",
       "      <td>L</td>\n",
       "      <td>-0.996633</td>\n",
       "    </tr>\n",
       "    <tr>\n",
       "      <th>6</th>\n",
       "      <td>A</td>\n",
       "      <td>37</td>\n",
       "      <td>38</td>\n",
       "      <td>44</td>\n",
       "      <td>45</td>\n",
       "      <td>37</td>\n",
       "      <td>38</td>\n",
       "      <td>44</td>\n",
       "      <td>45</td>\n",
       "      <td>5</td>\n",
       "      <td>VCPICGAPK</td>\n",
       "      <td>PICGA</td>\n",
       "      <td>MAKWVCKICGYIYDEDAGDPDNGISPGTKFEELPDDWVCPICGAPK...</td>\n",
       "      <td>5nw3</td>\n",
       "      <td>L</td>\n",
       "      <td>-0.372455</td>\n",
       "    </tr>\n",
       "    <tr>\n",
       "      <th>7</th>\n",
       "      <td>A</td>\n",
       "      <td>3</td>\n",
       "      <td>6</td>\n",
       "      <td>10</td>\n",
       "      <td>11</td>\n",
       "      <td>4</td>\n",
       "      <td>7</td>\n",
       "      <td>11</td>\n",
       "      <td>12</td>\n",
       "      <td>3</td>\n",
       "      <td>SVVANQLIP</td>\n",
       "      <td>NQL</td>\n",
       "      <td>NKASVVANQLIPINTALTLIMMKAEVVTPMGIPAEEIPKLVGMQVN...</td>\n",
       "      <td>1ucs</td>\n",
       "      <td>R</td>\n",
       "      <td>0.591754</td>\n",
       "    </tr>\n",
       "    <tr>\n",
       "      <th>8</th>\n",
       "      <td>A</td>\n",
       "      <td>10</td>\n",
       "      <td>11</td>\n",
       "      <td>15</td>\n",
       "      <td>16</td>\n",
       "      <td>11</td>\n",
       "      <td>12</td>\n",
       "      <td>16</td>\n",
       "      <td>17</td>\n",
       "      <td>3</td>\n",
       "      <td>IPINTAL</td>\n",
       "      <td>INT</td>\n",
       "      <td>NKASVVANQLIPINTALTLIMMKAEVVTPMGIPAEEIPKLVGMQVN...</td>\n",
       "      <td>1ucs</td>\n",
       "      <td>L</td>\n",
       "      <td>-0.992940</td>\n",
       "    </tr>\n",
       "    <tr>\n",
       "      <th>9</th>\n",
       "      <td>A</td>\n",
       "      <td>43</td>\n",
       "      <td>44</td>\n",
       "      <td>48</td>\n",
       "      <td>49</td>\n",
       "      <td>44</td>\n",
       "      <td>45</td>\n",
       "      <td>49</td>\n",
       "      <td>50</td>\n",
       "      <td>3</td>\n",
       "      <td>QVNRAVP</td>\n",
       "      <td>NRA</td>\n",
       "      <td>NKASVVANQLIPINTALTLIMMKAEVVTPMGIPAEEIPKLVGMQVN...</td>\n",
       "      <td>1ucs</td>\n",
       "      <td>R</td>\n",
       "      <td>0.066448</td>\n",
       "    </tr>\n",
       "  </tbody>\n",
       "</table>\n",
       "</div>"
      ],
      "text/plain": [
       "  Chain  strand1_start_idx  strand1_end_idx  strand2_start_idx  \\\n",
       "0     A                 45               46                 48   \n",
       "1     A                 48               54                 57   \n",
       "2     A                 67               69                 73   \n",
       "3     A                 73               74                 79   \n",
       "4     A                  2                5                 11   \n",
       "5     A                 11               13                 18   \n",
       "6     A                 37               38                 44   \n",
       "7     A                  3                6                 10   \n",
       "8     A                 10               11                 15   \n",
       "9     A                 43               44                 48   \n",
       "\n",
       "   strand2_end_idx  strand1_start_res  strand1_end_res  strand2_start_res  \\\n",
       "0               54                 46               47                 49   \n",
       "1               60                 49               55                 58   \n",
       "2               74                 68               70                 74   \n",
       "3               80                 74               75                 80   \n",
       "4               13                  2                5                 11   \n",
       "5               19                 11               13                 18   \n",
       "6               45                 37               38                 44   \n",
       "7               11                  4                7                 11   \n",
       "8               16                 11               12                 16   \n",
       "9               49                 44               45                 49   \n",
       "\n",
       "   strand2_end_res  loop_len HairpinSequence LoopSequence  \\\n",
       "0               55         1      CQFMQANVGE            F   \n",
       "1               61         2   MQANVGEGDWKGC           GD   \n",
       "2               75         3        LINVNGWC          VNG   \n",
       "3               81         4        WCASWTLK         ASWT   \n",
       "4               13         5    KWVCKICGYIYD        KICGY   \n",
       "5               19         4       IYDEDAGDP         EDAG   \n",
       "6               45         5       VCPICGAPK        PICGA   \n",
       "7               12         3       SVVANQLIP          NQL   \n",
       "8               17         3         IPINTAL          INT   \n",
       "9               50         3         QVNRAVP          NRA   \n",
       "\n",
       "                                   FullChainSequence   PDB handedness  \\\n",
       "0  AAPANAVTADDPTAIALKYNQDATKSERVAAARPGLPPEEQHCANC...  5d8v          L   \n",
       "1  AAPANAVTADDPTAIALKYNQDATKSERVAAARPGLPPEEQHCANC...  5d8v          L   \n",
       "2  AAPANAVTADDPTAIALKYNQDATKSERVAAARPGLPPEEQHCANC...  5d8v          L   \n",
       "3  AAPANAVTADDPTAIALKYNQDATKSERVAAARPGLPPEEQHCANC...  5d8v          L   \n",
       "4  MAKWVCKICGYIYDEDAGDPDNGISPGTKFEELPDDWVCPICGAPK...  5nw3          L   \n",
       "5  MAKWVCKICGYIYDEDAGDPDNGISPGTKFEELPDDWVCPICGAPK...  5nw3          L   \n",
       "6  MAKWVCKICGYIYDEDAGDPDNGISPGTKFEELPDDWVCPICGAPK...  5nw3          L   \n",
       "7  NKASVVANQLIPINTALTLIMMKAEVVTPMGIPAEEIPKLVGMQVN...  1ucs          R   \n",
       "8  NKASVVANQLIPINTALTLIMMKAEVVTPMGIPAEEIPKLVGMQVN...  1ucs          L   \n",
       "9  NKASVVANQLIPINTALTLIMMKAEVVTPMGIPAEEIPKLVGMQVN...  1ucs          R   \n",
       "\n",
       "   handedness_magnitude  \n",
       "0             -0.340642  \n",
       "1             -0.873705  \n",
       "2             -0.978780  \n",
       "3             -0.955260  \n",
       "4             -0.486571  \n",
       "5             -0.996633  \n",
       "6             -0.372455  \n",
       "7              0.591754  \n",
       "8             -0.992940  \n",
       "9              0.066448  "
      ]
     },
     "execution_count": 5,
     "metadata": {},
     "output_type": "execute_result"
    }
   ],
   "source": [
    "from dataset.io_utils import fetch_mmcif_file, run_dssp_on_mmcif\n",
    "from dataset.motif_logic import (\n",
    "    detect_hairpins,\n",
    "    assign_beta_chirality_strand_axis,\n",
    "    assign_beta_chirality_local,\n",
    ")\n",
    "import pandas as pd\n",
    "import os\n",
    "from tqdm import tqdm \n",
    "\n",
    "results_strandaxis = []\n",
    "results_local = []\n",
    "\n",
    "for pdb_id in tqdm(pdb_ids, desc=\"Processing PDBs\"):\n",
    "    pdb_path = fetch_mmcif_file(pdb_id, outdir=\"./pdb_files\")\n",
    "    try:\n",
    "        model, dssp_df = run_dssp_on_mmcif(\n",
    "            pdb_path,\n",
    "            dssp_exe=\"/opt/anaconda3/envs/folding-dssp/bin/mkdssp\",\n",
    "        )\n",
    "        if dssp_df is None:\n",
    "            print(f\"DSSP failed for {pdb_id}. Skipping.\")\n",
    "            continue\n",
    "\n",
    "        hairpin_annotations = detect_hairpins(dssp_df)\n",
    "\n",
    "        # Strand-axis method\n",
    "        df_strandaxis = assign_beta_chirality_strand_axis(\n",
    "            model, dssp_df, hairpin_annotations\n",
    "        )\n",
    "        results_strandaxis.append(df_strandaxis)\n",
    "\n",
    "        # Local backbone method\n",
    "        df_local = assign_beta_chirality_local(\n",
    "            model, dssp_df, hairpin_annotations\n",
    "        )\n",
    "        results_local.append(df_local)\n",
    "\n",
    "    except Exception as e:\n",
    "        print(f\"Error processing {pdb_id}: {e}\")\n",
    "        continue\n",
    "    finally:\n",
    "        pass\n",
    "        # if os.path.exists(pdb_path):\n",
    "        #     os.remove(pdb_path)\n",
    "\n",
    "all_hairpins_strandaxis = pd.concat(results_strandaxis, ignore_index=True)\n",
    "all_hairpins_local = pd.concat(results_local, ignore_index=True)\n",
    "\n",
    "all_hairpins_local.head(10)\n"
   ]
  },
  {
   "cell_type": "code",
   "execution_count": 6,
   "id": "0f50c0a2",
   "metadata": {},
   "outputs": [],
   "source": [
    "# save all_hairpins_local as pandas dataframe\n",
    "all_hairpins_local.to_csv(\"all_hairpins_local.csv\", index=False)\n",
    "# save all_hairpins_strandaxis as pandas dataframe\n",
    "all_hairpins_strandaxis.to_csv(\"all_hairpins_strandaxis.csv\", index=False)\n"
   ]
  },
  {
   "cell_type": "code",
   "execution_count": 7,
   "id": "49d4e762",
   "metadata": {},
   "outputs": [
    {
     "data": {
      "text/plain": [
       "<Axes: xlabel='Loop length', ylabel='Frequency'>"
      ]
     },
     "execution_count": 7,
     "metadata": {},
     "output_type": "execute_result"
    },
    {
     "data": {
      "image/png": "[encoded data removed]",
      "text/plain": [
       "<Figure size 300x300 with 1 Axes>"
      ]
     },
     "metadata": {},
     "output_type": "display_data"
    },
    {
     "data": {
      "image/png": "[encoded data removed]",
      "text/plain": [
       "<Figure size 300x300 with 1 Axes>"
      ]
     },
     "metadata": {},
     "output_type": "display_data"
    }
   ],
   "source": [
    "from dataset.plots import plot_loop_length_chirality\n",
    "\n",
    "plot_loop_length_chirality(all_hairpins_strandaxis)   \n",
    "plot_loop_length_chirality(all_hairpins_local) "
   ]
  },
  {
   "cell_type": "markdown",
   "id": "4d175e3a",
   "metadata": {},
   "source": [
    "### What are those R hairpins with length 2?"
   ]
  },
  {
   "cell_type": "markdown",
   "id": "0666d998",
   "metadata": {},
   "source": [
    "None of these were observed in the paper. Maybe many of those are quite weak magnitude?"
   ]
  },
  {
   "cell_type": "code",
   "execution_count": 10,
   "id": "00ffe1b9",
   "metadata": {},
   "outputs": [
    {
     "data": {
      "text/html": [
       "<div>\n",
       "<style scoped>\n",
       "    .dataframe tbody tr th:only-of-type {\n",
       "        vertical-align: middle;\n",
       "    }\n",
       "\n",
       "    .dataframe tbody tr th {\n",
       "        vertical-align: top;\n",
       "    }\n",
       "\n",
       "    .dataframe thead th {\n",
       "        text-align: right;\n",
       "    }\n",
       "</style>\n",
       "<table border=\"1\" class=\"dataframe\">\n",
       "  <thead>\n",
       "    <tr style=\"text-align: right;\">\n",
       "      <th></th>\n",
       "      <th>Chain</th>\n",
       "      <th>strand1_start_idx</th>\n",
       "      <th>strand1_end_idx</th>\n",
       "      <th>strand2_start_idx</th>\n",
       "      <th>strand2_end_idx</th>\n",
       "      <th>strand1_start_res</th>\n",
       "      <th>strand1_end_res</th>\n",
       "      <th>strand2_start_res</th>\n",
       "      <th>strand2_end_res</th>\n",
       "      <th>loop_len</th>\n",
       "      <th>HairpinSequence</th>\n",
       "      <th>LoopSequence</th>\n",
       "      <th>FullChainSequence</th>\n",
       "      <th>PDB</th>\n",
       "      <th>handedness</th>\n",
       "      <th>handedness_magnitude</th>\n",
       "    </tr>\n",
       "  </thead>\n",
       "  <tbody>\n",
       "    <tr>\n",
       "      <th>35</th>\n",
       "      <td>A</td>\n",
       "      <td>58</td>\n",
       "      <td>59</td>\n",
       "      <td>62</td>\n",
       "      <td>63</td>\n",
       "      <td>67</td>\n",
       "      <td>68</td>\n",
       "      <td>71</td>\n",
       "      <td>72</td>\n",
       "      <td>2</td>\n",
       "      <td>WFKNRT</td>\n",
       "      <td>KN</td>\n",
       "      <td>GYVPAVVIGTGYGAAVSALRLGEAGVQTLMLEMGQLWNQPGPDGNI...</td>\n",
       "      <td>4rek</td>\n",
       "      <td>R</td>\n",
       "      <td>0.007053</td>\n",
       "    </tr>\n",
       "    <tr>\n",
       "      <th>39</th>\n",
       "      <td>A</td>\n",
       "      <td>179</td>\n",
       "      <td>181</td>\n",
       "      <td>184</td>\n",
       "      <td>186</td>\n",
       "      <td>188</td>\n",
       "      <td>190</td>\n",
       "      <td>193</td>\n",
       "      <td>195</td>\n",
       "      <td>2</td>\n",
       "      <td>TVFVPNVY</td>\n",
       "      <td>VP</td>\n",
       "      <td>GYVPAVVIGTGYGAAVSALRLGEAGVQTLMLEMGQLWNQPGPDGNI...</td>\n",
       "      <td>4rek</td>\n",
       "      <td>R</td>\n",
       "      <td>0.087194</td>\n",
       "    </tr>\n",
       "    <tr>\n",
       "      <th>46</th>\n",
       "      <td>A</td>\n",
       "      <td>431</td>\n",
       "      <td>432</td>\n",
       "      <td>435</td>\n",
       "      <td>436</td>\n",
       "      <td>440</td>\n",
       "      <td>441</td>\n",
       "      <td>444</td>\n",
       "      <td>445</td>\n",
       "      <td>2</td>\n",
       "      <td>FADDFC</td>\n",
       "      <td>DD</td>\n",
       "      <td>GYVPAVVIGTGYGAAVSALRLGEAGVQTLMLEMGQLWNQPGPDGNI...</td>\n",
       "      <td>4rek</td>\n",
       "      <td>R</td>\n",
       "      <td>0.000206</td>\n",
       "    </tr>\n",
       "    <tr>\n",
       "      <th>104</th>\n",
       "      <td>A</td>\n",
       "      <td>138</td>\n",
       "      <td>141</td>\n",
       "      <td>144</td>\n",
       "      <td>150</td>\n",
       "      <td>1139</td>\n",
       "      <td>1142</td>\n",
       "      <td>1145</td>\n",
       "      <td>1151</td>\n",
       "      <td>2</td>\n",
       "      <td>VIKTVKSVGMIAG</td>\n",
       "      <td>VK</td>\n",
       "      <td>STPAITLENPDIKYPLRLIDKEVVNHDTRRFRFALPSPEHILGLPV...</td>\n",
       "      <td>5gv8</td>\n",
       "      <td>R</td>\n",
       "      <td>0.138283</td>\n",
       "    </tr>\n",
       "    <tr>\n",
       "      <th>155</th>\n",
       "      <td>A</td>\n",
       "      <td>20</td>\n",
       "      <td>24</td>\n",
       "      <td>27</td>\n",
       "      <td>32</td>\n",
       "      <td>45</td>\n",
       "      <td>48</td>\n",
       "      <td>49</td>\n",
       "      <td>54</td>\n",
       "      <td>2</td>\n",
       "      <td>FSVTRGATKGFVT</td>\n",
       "      <td>GA</td>\n",
       "      <td>ANIVGGIEYSINNASLCSVGFSVTRGATKGFVTAGHCGTVNATARI...</td>\n",
       "      <td>2h5c</td>\n",
       "      <td>R</td>\n",
       "      <td>0.810487</td>\n",
       "    </tr>\n",
       "    <tr>\n",
       "      <th>157</th>\n",
       "      <td>A</td>\n",
       "      <td>48</td>\n",
       "      <td>57</td>\n",
       "      <td>60</td>\n",
       "      <td>61</td>\n",
       "      <td>82</td>\n",
       "      <td>91</td>\n",
       "      <td>100</td>\n",
       "      <td>101</td>\n",
       "      <td>2</td>\n",
       "      <td>AVVGTFAARVFPGN</td>\n",
       "      <td>FP</td>\n",
       "      <td>ANIVGGIEYSINNASLCSVGFSVTRGATKGFVTAGHCGTVNATARI...</td>\n",
       "      <td>2h5c</td>\n",
       "      <td>R</td>\n",
       "      <td>0.063096</td>\n",
       "    </tr>\n",
       "    <tr>\n",
       "      <th>161</th>\n",
       "      <td>A</td>\n",
       "      <td>83</td>\n",
       "      <td>86</td>\n",
       "      <td>89</td>\n",
       "      <td>90</td>\n",
       "      <td>120</td>\n",
       "      <td>120</td>\n",
       "      <td>123</td>\n",
       "      <td>124</td>\n",
       "      <td>2</td>\n",
       "      <td>SFVTVRGS</td>\n",
       "      <td>VR</td>\n",
       "      <td>ANIVGGIEYSINNASLCSVGFSVTRGATKGFVTAGHCGTVNATARI...</td>\n",
       "      <td>2h5c</td>\n",
       "      <td>R</td>\n",
       "      <td>0.684031</td>\n",
       "    </tr>\n",
       "    <tr>\n",
       "      <th>242</th>\n",
       "      <td>A</td>\n",
       "      <td>90</td>\n",
       "      <td>91</td>\n",
       "      <td>94</td>\n",
       "      <td>95</td>\n",
       "      <td>128</td>\n",
       "      <td>129</td>\n",
       "      <td>132</td>\n",
       "      <td>133</td>\n",
       "      <td>2</td>\n",
       "      <td>VTISGN</td>\n",
       "      <td>IS</td>\n",
       "      <td>TVIPLQTTVQTPITLGSANNFAVIAGSSVTNTGATNITGDLGLSPG...</td>\n",
       "      <td>6eio</td>\n",
       "      <td>R</td>\n",
       "      <td>0.140925</td>\n",
       "    </tr>\n",
       "    <tr>\n",
       "      <th>244</th>\n",
       "      <td>A</td>\n",
       "      <td>100</td>\n",
       "      <td>101</td>\n",
       "      <td>104</td>\n",
       "      <td>108</td>\n",
       "      <td>138</td>\n",
       "      <td>139</td>\n",
       "      <td>142</td>\n",
       "      <td>146</td>\n",
       "      <td>2</td>\n",
       "      <td>TLTPGLYKS</td>\n",
       "      <td>TP</td>\n",
       "      <td>TVIPLQTTVQTPITLGSANNFAVIAGSSVTNTGATNITGDLGLSPG...</td>\n",
       "      <td>6eio</td>\n",
       "      <td>R</td>\n",
       "      <td>0.276572</td>\n",
       "    </tr>\n",
       "    <tr>\n",
       "      <th>257</th>\n",
       "      <td>A</td>\n",
       "      <td>90</td>\n",
       "      <td>98</td>\n",
       "      <td>101</td>\n",
       "      <td>102</td>\n",
       "      <td>133</td>\n",
       "      <td>141</td>\n",
       "      <td>144</td>\n",
       "      <td>145</td>\n",
       "      <td>2</td>\n",
       "      <td>WESVFSEFHDADA</td>\n",
       "      <td>DA</td>\n",
       "      <td>MISAAVDRVIGMENAMPWNLPADLAWFKLNKPVIMGRHTWESIGRP...</td>\n",
       "      <td>4pss</td>\n",
       "      <td>R</td>\n",
       "      <td>0.115181</td>\n",
       "    </tr>\n",
       "  </tbody>\n",
       "</table>\n",
       "</div>"
      ],
      "text/plain": [
       "    Chain  strand1_start_idx  strand1_end_idx  strand2_start_idx  \\\n",
       "35      A                 58               59                 62   \n",
       "39      A                179              181                184   \n",
       "46      A                431              432                435   \n",
       "104     A                138              141                144   \n",
       "155     A                 20               24                 27   \n",
       "157     A                 48               57                 60   \n",
       "161     A                 83               86                 89   \n",
       "242     A                 90               91                 94   \n",
       "244     A                100              101                104   \n",
       "257     A                 90               98                101   \n",
       "\n",
       "     strand2_end_idx  strand1_start_res  strand1_end_res  strand2_start_res  \\\n",
       "35                63                 67               68                 71   \n",
       "39               186                188              190                193   \n",
       "46               436                440              441                444   \n",
       "104              150               1139             1142               1145   \n",
       "155               32                 45               48                 49   \n",
       "157               61                 82               91                100   \n",
       "161               90                120              120                123   \n",
       "242               95                128              129                132   \n",
       "244              108                138              139                142   \n",
       "257              102                133              141                144   \n",
       "\n",
       "     strand2_end_res  loop_len HairpinSequence LoopSequence  \\\n",
       "35                72         2          WFKNRT           KN   \n",
       "39               195         2        TVFVPNVY           VP   \n",
       "46               445         2          FADDFC           DD   \n",
       "104             1151         2   VIKTVKSVGMIAG           VK   \n",
       "155               54         2   FSVTRGATKGFVT           GA   \n",
       "157              101         2  AVVGTFAARVFPGN           FP   \n",
       "161              124         2        SFVTVRGS           VR   \n",
       "242              133         2          VTISGN           IS   \n",
       "244              146         2       TLTPGLYKS           TP   \n",
       "257              145         2   WESVFSEFHDADA           DA   \n",
       "\n",
       "                                     FullChainSequence   PDB handedness  \\\n",
       "35   GYVPAVVIGTGYGAAVSALRLGEAGVQTLMLEMGQLWNQPGPDGNI...  4rek          R   \n",
       "39   GYVPAVVIGTGYGAAVSALRLGEAGVQTLMLEMGQLWNQPGPDGNI...  4rek          R   \n",
       "46   GYVPAVVIGTGYGAAVSALRLGEAGVQTLMLEMGQLWNQPGPDGNI...  4rek          R   \n",
       "104  STPAITLENPDIKYPLRLIDKEVVNHDTRRFRFALPSPEHILGLPV...  5gv8          R   \n",
       "155  ANIVGGIEYSINNASLCSVGFSVTRGATKGFVTAGHCGTVNATARI...  2h5c          R   \n",
       "157  ANIVGGIEYSINNASLCSVGFSVTRGATKGFVTAGHCGTVNATARI...  2h5c          R   \n",
       "161  ANIVGGIEYSINNASLCSVGFSVTRGATKGFVTAGHCGTVNATARI...  2h5c          R   \n",
       "242  TVIPLQTTVQTPITLGSANNFAVIAGSSVTNTGATNITGDLGLSPG...  6eio          R   \n",
       "244  TVIPLQTTVQTPITLGSANNFAVIAGSSVTNTGATNITGDLGLSPG...  6eio          R   \n",
       "257  MISAAVDRVIGMENAMPWNLPADLAWFKLNKPVIMGRHTWESIGRP...  4pss          R   \n",
       "\n",
       "     handedness_magnitude  \n",
       "35               0.007053  \n",
       "39               0.087194  \n",
       "46               0.000206  \n",
       "104              0.138283  \n",
       "155              0.810487  \n",
       "157              0.063096  \n",
       "161              0.684031  \n",
       "242              0.140925  \n",
       "244              0.276572  \n",
       "257              0.115181  "
      ]
     },
     "execution_count": 10,
     "metadata": {},
     "output_type": "execute_result"
    }
   ],
   "source": [
    "all_hairpins_local[(all_hairpins_local[\"loop_len\"] == 2) & (all_hairpins_local[\"handedness\"] == \"R\")].head(10)\n"
   ]
  },
  {
   "cell_type": "markdown",
   "id": "b4fda3b3",
   "metadata": {},
   "source": [
    "### Plot only strong magnitude examples"
   ]
  },
  {
   "cell_type": "code",
   "execution_count": 12,
   "id": "62a04ee3",
   "metadata": {},
   "outputs": [
    {
     "data": {
      "text/plain": [
       "<Axes: xlabel='Loop length', ylabel='Frequency'>"
      ]
     },
     "execution_count": 12,
     "metadata": {},
     "output_type": "execute_result"
    },
    {
     "data": {
      "image/png": "[encoded data removed]",
      "text/plain": [
       "<Figure size 300x300 with 1 Axes>"
      ]
     },
     "metadata": {},
     "output_type": "display_data"
    },
    {
     "data": {
      "image/png": "[encoded data removed]",
      "text/plain": [
       "<Figure size 300x300 with 1 Axes>"
      ]
     },
     "metadata": {},
     "output_type": "display_data"
    }
   ],
   "source": [
    "plot_loop_length_chirality(all_hairpins_strandaxis[all_hairpins_strandaxis[\"handedness_magnitude\"].abs() > 0.75])\n",
    "plot_loop_length_chirality(all_hairpins_local[all_hairpins_local[\"handedness_magnitude\"].abs() > 0.75])"
   ]
  },
  {
   "cell_type": "markdown",
   "id": "02fd1aef",
   "metadata": {},
   "source": [
    "# Writeout all hairpins in a single pdb file"
   ]
  },
  {
   "cell_type": "code",
   "execution_count": null,
   "id": "41e58326",
   "metadata": {},
   "outputs": [
    {
     "name": "stdout",
     "output_type": "stream",
     "text": [
      "0 hairpins selected\n",
      "✓ saved 0 aligned hairpins → hairpins_backbone_aligned.cif\n"
     ]
    }
   ],
   "source": [
    "\"\"\"\n",
    "Write an mmCIF with the first 20 β-hairpins that satisfy\n",
    "\n",
    "    • loop_len ≤ 5\n",
    "    • handedness == \"L\"\n",
    "    • |handedness_magnitude| > 0.8\n",
    "    • each flanking β-strand ≥ 5 residues\n",
    "\n",
    "**Alignment frame (backbone method)**  \n",
    "    origin      = CA of residue *before* the loop (res_pre = strand1_end)  \n",
    "    +x (u-axis) = N→C vector of res_pre                              (backbone)  \n",
    "    +y (v-axis) = CA_pre → CA_post, projected ⟂ u                    (across loop)  \n",
    "    +z (w-axis) = u × v                                              (right-handed)\n",
    "\n",
    "Each hairpin is copied into this frame (so all overlay) and stored in its own\n",
    "chain HP_0001 … HP_0020 in **hairpins_backbone_aligned.cif**.\n",
    "\"\"\"\n",
    "\n",
    "from copy import deepcopy\n",
    "import numpy as np\n",
    "from Bio.PDB import MMCIFParser, MMCIFIO, Structure, Model, Chain, Vector\n",
    "\n",
    "from dataset.io_utils  import fetch_mmcif_file\n",
    "from dataset.geometry  import get_ca_from_residue, get_cb_from_residue\n",
    "from dataset.motif_logic import compute_handedness_from_backbone_geometry   # already imported earlier\n",
    "\n",
    "# ───────────────────────────── 1 · filter DataFrame\n",
    "HP_DF = (\n",
    "    all_hairpins_backbone\n",
    "      .query(\n",
    "          \"loop_len == 2 and handedness == 'L' \"\n",
    "          \"and abs(handedness_magnitude) > 0.8 \"\n",
    "          \"and (strand1_end - strand1_start + 1) >= 5 \"\n",
    "          \"and (strand2_end - strand2_start + 1) >= 5\"\n",
    "      )\n",
    "      .head(20)        # keep first 20\n",
    "      .reset_index(drop=True)\n",
    ")\n",
    "print(f\"{len(HP_DF)} hairpins selected\")\n",
    "\n",
    "# ───────────────────────────── 2 · Bio.PDB setup\n",
    "parser    = MMCIFParser(QUIET=True)\n",
    "structure = Structure.Structure(\"BACKBONE_ALIGNED\")\n",
    "model0    = Model.Model(0)\n",
    "structure.add(model0)\n",
    "\n",
    "def np_vec(v: Vector):\n",
    "    \"\"\"Return numpy array from Bio.PDB.Vector\"\"\"\n",
    "    return v.get_array()\n",
    "\n",
    "# ───────────────────────────── 3 · iterate hairpins\n",
    "for i, row in HP_DF.iterrows():\n",
    "    pdb_id, cid = row[\"PDB\"].lower(), row[\"Chain\"]\n",
    "    s1_start, s1_end = int(row[\"strand1_start\"]), int(row[\"strand1_end\"])\n",
    "    s2_start, s2_end = int(row[\"strand2_start\"]), int(row[\"strand2_end\"])\n",
    "\n",
    "    # source structure\n",
    "    model_src = parser.get_structure(pdb_id, fetch_mmcif_file(pdb_id))[0]\n",
    "    if cid not in model_src:\n",
    "        continue\n",
    "    chain_src = model_src[cid]\n",
    "\n",
    "    try:\n",
    "        res_pre  = chain_src[(\" \", s1_end,   \" \")]  # before loop\n",
    "        res_post = chain_src[(\" \", s2_start, \" \")]  # after  loop\n",
    "    except KeyError:\n",
    "        continue\n",
    "\n",
    "    # backbone frame\n",
    "    ca_pre = np_vec(get_ca_from_residue(res_pre))\n",
    "    ca_post= np_vec(get_ca_from_residue(res_post))\n",
    "    if ca_pre is None or ca_post is None:\n",
    "        continue\n",
    "\n",
    "    u = np_vec(Vector(res_pre[\"C\"].get_coord()) - Vector(res_pre[\"N\"].get_coord()))\n",
    "    u /= np.linalg.norm(u)\n",
    "\n",
    "    v_raw = ca_post - ca_pre\n",
    "    v_raw -= np.dot(v_raw, u) * u\n",
    "    v = v_raw / np.linalg.norm(v_raw)\n",
    "\n",
    "    w = np.cross(u, v)\n",
    "    R = np.vstack((u, v, w)).T            # local→global; use R.T to rotate coords into frame\n",
    "\n",
    "    # copy residues, transform\n",
    "    new_chain = Chain.Chain(f\"HP_{i+1:04d}\")\n",
    "    for resseq in range(s1_start, s2_end + 1):\n",
    "        key = (\" \", resseq, \" \")\n",
    "        if key not in chain_src:\n",
    "            continue\n",
    "        res = deepcopy(chain_src[key])\n",
    "        for atom in res.get_atoms():\n",
    "            xyz = atom.get_vector().get_array() - ca_pre   # translate to origin\n",
    "            atom.set_coord(R.T @ xyz)                      # rotate into frame\n",
    "        new_chain.add(res)\n",
    "\n",
    "    model0.add(new_chain)\n",
    "\n",
    "# ───────────────────────────── 4 · write mmCIF\n",
    "out_cif = \"hairpins_backbone_aligned.cif\"\n",
    "writer  = MMCIFIO()\n",
    "writer.set_structure(structure)\n",
    "writer.save(out_cif)\n",
    "\n",
    "print(f\"✓ saved {len(model0.child_list)} aligned hairpins → {out_cif}\")\n"
   ]
  },
  {
   "cell_type": "code",
   "execution_count": null,
   "id": "68141e18",
   "metadata": {},
   "outputs": [],
   "source": []
  },
  {
   "cell_type": "code",
   "execution_count": null,
   "id": "d60bac33",
   "metadata": {},
   "outputs": [],
   "source": []
  },
  {
   "cell_type": "code",
   "execution_count": null,
   "id": "b45e65cf",
   "metadata": {},
   "outputs": [],
   "source": []
  },
  {
   "cell_type": "code",
   "execution_count": null,
   "id": "8cdd6235",
   "metadata": {},
   "outputs": [],
   "source": []
  },
  {
   "cell_type": "code",
   "execution_count": null,
   "id": "30c6f7a0",
   "metadata": {},
   "outputs": [],
   "source": []
  },
  {
   "cell_type": "code",
   "execution_count": null,
   "id": "02f2689b",
   "metadata": {},
   "outputs": [],
   "source": []
  },
  {
   "cell_type": "code",
   "execution_count": null,
   "id": "90d99dd4",
   "metadata": {},
   "outputs": [],
   "source": []
  },
  {
   "cell_type": "markdown",
   "id": "393ed24c",
   "metadata": {},
   "source": [
    "# Other sanity checks"
   ]
  },
  {
   "cell_type": "markdown",
   "id": "429d0939",
   "metadata": {},
   "source": [
    "### Check C-b generation function"
   ]
  },
  {
   "cell_type": "code",
   "execution_count": 17,
   "id": "ff3401d2",
   "metadata": {},
   "outputs": [
    {
     "name": "stdout",
     "output_type": "stream",
     "text": [
      "wrote /Users/shuber/Development/FoldingPrinciplesDataset/notebooks/test_ala_cb.pdb\n",
      "CA–CB bond length  : 1.5220000000000002 Å (expect 1.522 )\n",
      "∠N-CA-CB           : 101.02236461655833 °  (expect ≈109.5°)\n",
      "∠C-CA-CB           : 101.02236461655835 °  (expect ≈109.5°)\n"
     ]
    },
    {
     "name": "stderr",
     "output_type": "stream",
     "text": [
      "/opt/anaconda3/envs/folding-dssp/lib/python3.9/site-packages/Bio/PDB/Atom.py:237: PDBConstructionWarning: Used element 'N' for Atom (name=N) with given element None\n",
      "  warnings.warn(msg, PDBConstructionWarning)\n",
      "/opt/anaconda3/envs/folding-dssp/lib/python3.9/site-packages/Bio/PDB/Atom.py:237: PDBConstructionWarning: Used element 'CA' for Atom (name=CA) with given element None\n",
      "  warnings.warn(msg, PDBConstructionWarning)\n",
      "/opt/anaconda3/envs/folding-dssp/lib/python3.9/site-packages/Bio/PDB/Atom.py:237: PDBConstructionWarning: Used element 'C' for Atom (name=C) with given element None\n",
      "  warnings.warn(msg, PDBConstructionWarning)\n"
     ]
    }
   ],
   "source": [
    "\"\"\"\n",
    "Generate a minimal Ala residue, compute its Cβ with the library function\n",
    "`get_cb_from_residue`, and write the four atoms to *test_ala_cb.pdb*.\n",
    "\n",
    "Run this after you have installed the project (so that\n",
    "`dataset.geometry.get_cb_from_residue` is importable).\n",
    "\"\"\"\n",
    "\n",
    "import math\n",
    "import numpy as np\n",
    "from pathlib import Path\n",
    "from Bio.PDB import Atom, Residue, Vector\n",
    "from dataset.geometry import get_cb_from_residue, CA_CB_BOND\n",
    "\n",
    "# ───────────────────────────────────────────────────────────────── backbone coords\n",
    "# realistic peptide geometry (Engh & Huber)\n",
    "CA = np.array([0.000, 0.000, 0.000])\n",
    "N  = np.array([1.458, 0.000, 0.000])                      # CA–N  1.458 Å\n",
    "C  = np.array([\n",
    "    1.525 * math.cos(math.radians(110.0)),                # CA–C  1.525 Å\n",
    "    1.525 * math.sin(math.radians(110.0)),\n",
    "    0.000\n",
    "])\n",
    "\n",
    "# ───────────────────────────────────────────────────────────────── build residue\n",
    "res = Residue.Residue((\" \", 1, \" \"), \"ALA\", \"\")\n",
    "res.add(Atom.Atom(\"N\",  N,  0.0, 0.0, \" \", \"N\",  1))\n",
    "res.add(Atom.Atom(\"CA\", CA, 0.0, 0.0, \" \", \"CA\", 2))\n",
    "res.add(Atom.Atom(\"C\",  C,  0.0, 0.0, \" \", \"C\",  3))\n",
    "\n",
    "# ───────────────────────────────────────────────────────────────── compute Cβ\n",
    "CB_vec = get_cb_from_residue(res)\n",
    "assert CB_vec is not None, \"get_cb_from_residue returned None\"\n",
    "CB = CB_vec.get_array()\n",
    "\n",
    "# ───────────────────────────────────────────────────────────────── write PDB\n",
    "lines = [\n",
    "    \"ATOM      1  N   ALA A   1    %8.3f%8.3f%8.3f  1.00  0.00           N\\n\" % tuple(N),\n",
    "    \"ATOM      2  CA  ALA A   1    %8.3f%8.3f%8.3f  1.00  0.00           C\\n\" % tuple(CA),\n",
    "    \"ATOM      3  C   ALA A   1    %8.3f%8.3f%8.3f  1.00  0.00           C\\n\" % tuple(C),\n",
    "    \"ATOM      4  CB  ALA A   1    %8.3f%8.3f%8.3f  1.00  0.00           C\\n\" % tuple(CB),\n",
    "    \"TER\\nEND\\n\",\n",
    "]\n",
    "\n",
    "out = Path(\"test_ala_cb.pdb\")\n",
    "out.write_text(\"\".join(lines))\n",
    "print(f\"wrote {out.resolve()}\")\n",
    "\n",
    "# ═══════════════════════════════════════════════════════════════════════════════\n",
    "# optional sanity check\n",
    "import numpy as np\n",
    "def angle(a, b, c):\n",
    "    v1 = a - b\n",
    "    v2 = c - b\n",
    "    return math.degrees(\n",
    "        math.acos(np.dot(v1, v2) / (np.linalg.norm(v1) * np.linalg.norm(v2)))\n",
    "    )\n",
    "\n",
    "print(\"CA–CB bond length  :\", np.linalg.norm(CB - CA), \"Å (expect\", CA_CB_BOND, \")\")\n",
    "print(\"∠N-CA-CB           :\", angle(N, CA, CB), \"°  (expect ≈109.5°)\")\n",
    "print(\"∠C-CA-CB           :\", angle(C, CA, CB), \"°  (expect ≈109.5°)\")\n"
   ]
  },
  {
   "cell_type": "code",
   "execution_count": null,
   "id": "d725323b",
   "metadata": {},
   "outputs": [],
   "source": []
  },
  {
   "cell_type": "code",
   "execution_count": null,
   "id": "86aa23dc",
   "metadata": {},
   "outputs": [],
   "source": []
  },
  {
   "cell_type": "code",
   "execution_count": null,
   "id": "0e4e3fc7",
   "metadata": {},
   "outputs": [],
   "source": []
  },
  {
   "cell_type": "code",
   "execution_count": null,
   "id": "edaf56ed",
   "metadata": {},
   "outputs": [],
   "source": []
  },
  {
   "cell_type": "code",
   "execution_count": null,
   "id": "07795597",
   "metadata": {},
   "outputs": [],
   "source": []
  },
  {
   "cell_type": "code",
   "execution_count": null,
   "id": "8f0a2c8d",
   "metadata": {},
   "outputs": [],
   "source": []
  }
 ],
 "metadata": {
  "kernelspec": {
   "display_name": "folding-dssp",
   "language": "python",
   "name": "python3"
  },
  "language_info": {
   "codemirror_mode": {
    "name": "ipython",
    "version": 3
   },
   "file_extension": ".py",
   "mimetype": "text/x-python",
   "name": "python",
   "nbconvert_exporter": "python",
   "pygments_lexer": "ipython3",
   "version": "3.9.22"
  }
 },
 "nbformat": 4,
 "nbformat_minor": 5
}
