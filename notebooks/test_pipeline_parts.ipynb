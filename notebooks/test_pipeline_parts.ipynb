{
 "cells": [
  {
   "cell_type": "markdown",
   "id": "ebfb78fd",
   "metadata": {},
   "source": [
    "# Protein Folding Principles Dataset"
   ]
  },
  {
   "cell_type": "code",
   "execution_count": null,
   "id": "3f70b3aa",
   "metadata": {},
   "outputs": [],
   "source": [
    "import matplotlib.pyplot as plt"
   ]
  },
  {
   "cell_type": "code",
   "execution_count": 1,
   "id": "05df15d0",
   "metadata": {},
   "outputs": [],
   "source": [
    "#Change root directory to the project root\n",
    "#This is necessary to import modules from the project\n",
    "#without having to install them\n",
    "\n",
    "import sys\n",
    "import os\n",
    "project_root = os.path.abspath(os.path.join(os.getcwd(), \"..\"))\n",
    "if project_root not in sys.path:\n",
    "    sys.path.insert(0, project_root)"
   ]
  },
  {
   "cell_type": "code",
   "execution_count": 2,
   "id": "f3d3fe7a",
   "metadata": {},
   "outputs": [],
   "source": [
    "## Interactive reloading\n",
    "#This is useful for Jupyter notebooks to automatically reload modules\n",
    "\n",
    "%load_ext autoreload\n",
    "%autoreload 2"
   ]
  },
  {
   "cell_type": "markdown",
   "id": "cd4697c2",
   "metadata": {},
   "source": [
    "### Get PDB codes for high quality structures using PISCES"
   ]
  },
  {
   "cell_type": "code",
   "execution_count": 29,
   "id": "615ea829",
   "metadata": {},
   "outputs": [
    {
     "name": "stdout",
     "output_type": "stream",
     "text": [
      "Detected PISCES columns: ['PDBchain', 'len', 'method', 'resol', 'rfac', 'freerfac']\n",
      "Found 11116 high-quality structures with pdb codes.\n",
      "['5D8V', '5NW3', '1UCS', '3X2M', '2VB1', '1US0', '6E6O', '6S2M', '1R6J', '4REK']\n"
     ]
    }
   ],
   "source": [
    "from dataset.pisces import fetch_pisces_table, get_filtered_pdb_codes\n",
    "\n",
    "# Fetch and filter\n",
    "pisces_df = fetch_pisces_table()\n",
    "pdb_ids = get_filtered_pdb_codes(pisces_df)\n",
    "\n",
    "# Preview results\n",
    "print(f\"Found {len(pdb_ids)} high-quality structures with pdb codes.\")\n",
    "print(pdb_ids[:10])\n"
   ]
  },
  {
   "cell_type": "markdown",
   "id": "53194649",
   "metadata": {},
   "source": [
    "### Find beta-beta patterns and their chirality in PDB entries"
   ]
  },
  {
   "cell_type": "code",
   "execution_count": null,
   "id": "51a6b932",
   "metadata": {},
   "outputs": [],
   "source": [
    "from dataset.io_utils import fetch_mmcif_file, run_dssp_on_mmcif\n",
    "from dataset.motif_logic import detect_hairpins_and_chirality, detect_hairpins_and_chirality_backbone\n",
    "import pandas as pd\n",
    "import os\n",
    "\n",
    "#pdb_ids = [\"8GBS\", \"7R1C\"]\n",
    "pdb_ids = pdb_ids[0:2000]\n",
    "results = []\n",
    "\n",
    "for pdb_id in pdb_ids:\n",
    "    pdb_path = fetch_mmcif_file(pdb_id)\n",
    "    try:\n",
    "        model, dssp_df = run_dssp_on_mmcif(pdb_path, dssp_exe=\"/opt/anaconda3/envs/folding-dssp/bin/mkdssp\")\n",
    "        if dssp_df is None:\n",
    "            print(f\"DSSP failed for {pdb_id}. Skipping.\")\n",
    "            continue\n",
    "        hp_df = detect_hairpins_and_chirality_backbone(model, dssp_df)\n",
    "        results.append(hp_df)\n",
    "    finally:\n",
    "        # Always remove the file, even if DSSP or parsing fails\n",
    "        if os.path.exists(pdb_path):\n",
    "            os.remove(pdb_path)\n",
    "\n",
    "all_hairpins = pd.concat(results, ignore_index=True)\n",
    "all_hairpins.head(10)"
   ]
  },
  {
   "cell_type": "code",
   "execution_count": null,
   "id": "49d4e762",
   "metadata": {},
   "outputs": [
    {
     "data": {
      "text/plain": [
       "<Axes: title={'center': 'β‑hairpin loop length vs chirality'}, xlabel='Loop length', ylabel='Count'>"
      ]
     },
     "execution_count": 26,
     "metadata": {},
     "output_type": "execute_result"
    },
    {
     "data": {
      "image/png": "[encoded data removed]",
      "text/plain": [
       "<Figure size 600x400 with 1 Axes>"
      ]
     },
     "metadata": {},
     "output_type": "display_data"
    }
   ],
   "source": [
    "from dataset.plots import plot_loop_length_chirality\n",
    "\n",
    "plot_loop_length_chirality(all_hairpins)      # uses default loop lengths 2‑5\n"
   ]
  },
  {
   "cell_type": "code",
   "execution_count": null,
   "id": "d093211b",
   "metadata": {},
   "outputs": [
    {
     "data": {
      "text/html": [
       "<div>\n",
       "<style scoped>\n",
       "    .dataframe tbody tr th:only-of-type {\n",
       "        vertical-align: middle;\n",
       "    }\n",
       "\n",
       "    .dataframe tbody tr th {\n",
       "        vertical-align: top;\n",
       "    }\n",
       "\n",
       "    .dataframe thead th {\n",
       "        text-align: right;\n",
       "    }\n",
       "</style>\n",
       "<table border=\"1\" class=\"dataframe\">\n",
       "  <thead>\n",
       "    <tr style=\"text-align: right;\">\n",
       "      <th></th>\n",
       "      <th>PDB</th>\n",
       "      <th>Chain</th>\n",
       "      <th>strand1_start</th>\n",
       "      <th>strand1_end</th>\n",
       "      <th>strand2_start</th>\n",
       "      <th>strand2_end</th>\n",
       "      <th>loop_len</th>\n",
       "      <th>handedness</th>\n",
       "      <th>handedness_magnitude</th>\n",
       "      <th>FullChainSequence</th>\n",
       "      <th>HairpinSequence</th>\n",
       "      <th>LoopSequence</th>\n",
       "    </tr>\n",
       "  </thead>\n",
       "  <tbody>\n",
       "    <tr>\n",
       "      <th>0</th>\n",
       "      <td>5d8v</td>\n",
       "      <td>A</td>\n",
       "      <td>46</td>\n",
       "      <td>47</td>\n",
       "      <td>49</td>\n",
       "      <td>55</td>\n",
       "      <td>1</td>\n",
       "      <td>L</td>\n",
       "      <td>-0.226841</td>\n",
       "      <td>AAPANAVTADDPTAIALKYNQDATKSERVAAARPGLPPEEQHCANC...</td>\n",
       "      <td>CQFMQANVGE</td>\n",
       "      <td>F</td>\n",
       "    </tr>\n",
       "    <tr>\n",
       "      <th>1</th>\n",
       "      <td>5d8v</td>\n",
       "      <td>A</td>\n",
       "      <td>49</td>\n",
       "      <td>55</td>\n",
       "      <td>58</td>\n",
       "      <td>61</td>\n",
       "      <td>2</td>\n",
       "      <td>L</td>\n",
       "      <td>-0.250730</td>\n",
       "      <td>AAPANAVTADDPTAIALKYNQDATKSERVAAARPGLPPEEQHCANC...</td>\n",
       "      <td>MQANVGEGDWKGC</td>\n",
       "      <td>GD</td>\n",
       "    </tr>\n",
       "    <tr>\n",
       "      <th>2</th>\n",
       "      <td>5d8v</td>\n",
       "      <td>A</td>\n",
       "      <td>58</td>\n",
       "      <td>61</td>\n",
       "      <td>68</td>\n",
       "      <td>70</td>\n",
       "      <td>6</td>\n",
       "      <td>L</td>\n",
       "      <td>-0.251390</td>\n",
       "      <td>AAPANAVTADDPTAIALKYNQDATKSERVAAARPGLPPEEQHCANC...</td>\n",
       "      <td>WKGCQLFPGKLIN</td>\n",
       "      <td>QLFPGK</td>\n",
       "    </tr>\n",
       "    <tr>\n",
       "      <th>3</th>\n",
       "      <td>5d8v</td>\n",
       "      <td>A</td>\n",
       "      <td>68</td>\n",
       "      <td>70</td>\n",
       "      <td>74</td>\n",
       "      <td>75</td>\n",
       "      <td>3</td>\n",
       "      <td>L</td>\n",
       "      <td>-0.707118</td>\n",
       "      <td>AAPANAVTADDPTAIALKYNQDATKSERVAAARPGLPPEEQHCANC...</td>\n",
       "      <td>LINVNGWC</td>\n",
       "      <td>VNG</td>\n",
       "    </tr>\n",
       "    <tr>\n",
       "      <th>4</th>\n",
       "      <td>5d8v</td>\n",
       "      <td>A</td>\n",
       "      <td>74</td>\n",
       "      <td>75</td>\n",
       "      <td>80</td>\n",
       "      <td>81</td>\n",
       "      <td>4</td>\n",
       "      <td>L</td>\n",
       "      <td>-0.865696</td>\n",
       "      <td>AAPANAVTADDPTAIALKYNQDATKSERVAAARPGLPPEEQHCANC...</td>\n",
       "      <td>WCASWTLK</td>\n",
       "      <td>ASWT</td>\n",
       "    </tr>\n",
       "    <tr>\n",
       "      <th>5</th>\n",
       "      <td>5nw3</td>\n",
       "      <td>A</td>\n",
       "      <td>2</td>\n",
       "      <td>5</td>\n",
       "      <td>11</td>\n",
       "      <td>13</td>\n",
       "      <td>5</td>\n",
       "      <td>L</td>\n",
       "      <td>-0.143099</td>\n",
       "      <td>MAKWVCKICGYIYDEDAGDPDNGISPGTKFEELPDDWVCPICGAPK...</td>\n",
       "      <td>KWVCKICGYIYD</td>\n",
       "      <td>KICGY</td>\n",
       "    </tr>\n",
       "    <tr>\n",
       "      <th>6</th>\n",
       "      <td>5nw3</td>\n",
       "      <td>A</td>\n",
       "      <td>11</td>\n",
       "      <td>13</td>\n",
       "      <td>18</td>\n",
       "      <td>19</td>\n",
       "      <td>4</td>\n",
       "      <td>L</td>\n",
       "      <td>-0.917436</td>\n",
       "      <td>MAKWVCKICGYIYDEDAGDPDNGISPGTKFEELPDDWVCPICGAPK...</td>\n",
       "      <td>IYDEDAGDP</td>\n",
       "      <td>EDAG</td>\n",
       "    </tr>\n",
       "    <tr>\n",
       "      <th>7</th>\n",
       "      <td>5nw3</td>\n",
       "      <td>A</td>\n",
       "      <td>18</td>\n",
       "      <td>19</td>\n",
       "      <td>23</td>\n",
       "      <td>24</td>\n",
       "      <td>3</td>\n",
       "      <td>R</td>\n",
       "      <td>0.842288</td>\n",
       "      <td>MAKWVCKICGYIYDEDAGDPDNGISPGTKFEELPDDWVCPICGAPK...</td>\n",
       "      <td>DPDNGIS</td>\n",
       "      <td>DNG</td>\n",
       "    </tr>\n",
       "    <tr>\n",
       "      <th>8</th>\n",
       "      <td>5nw3</td>\n",
       "      <td>A</td>\n",
       "      <td>23</td>\n",
       "      <td>24</td>\n",
       "      <td>37</td>\n",
       "      <td>38</td>\n",
       "      <td>12</td>\n",
       "      <td>L</td>\n",
       "      <td>-0.173234</td>\n",
       "      <td>MAKWVCKICGYIYDEDAGDPDNGISPGTKFEELPDDWVCPICGAPK...</td>\n",
       "      <td>ISPGTKFEELPDDWVC</td>\n",
       "      <td>PGTKFEELPDDW</td>\n",
       "    </tr>\n",
       "    <tr>\n",
       "      <th>9</th>\n",
       "      <td>5nw3</td>\n",
       "      <td>A</td>\n",
       "      <td>37</td>\n",
       "      <td>38</td>\n",
       "      <td>44</td>\n",
       "      <td>45</td>\n",
       "      <td>5</td>\n",
       "      <td>R</td>\n",
       "      <td>0.513473</td>\n",
       "      <td>MAKWVCKICGYIYDEDAGDPDNGISPGTKFEELPDDWVCPICGAPK...</td>\n",
       "      <td>VCPICGAPK</td>\n",
       "      <td>PICGA</td>\n",
       "    </tr>\n",
       "  </tbody>\n",
       "</table>\n",
       "</div>"
      ],
      "text/plain": [
       "    PDB Chain  strand1_start  strand1_end  strand2_start  strand2_end  \\\n",
       "0  5d8v     A             46           47             49           55   \n",
       "1  5d8v     A             49           55             58           61   \n",
       "2  5d8v     A             58           61             68           70   \n",
       "3  5d8v     A             68           70             74           75   \n",
       "4  5d8v     A             74           75             80           81   \n",
       "5  5nw3     A              2            5             11           13   \n",
       "6  5nw3     A             11           13             18           19   \n",
       "7  5nw3     A             18           19             23           24   \n",
       "8  5nw3     A             23           24             37           38   \n",
       "9  5nw3     A             37           38             44           45   \n",
       "\n",
       "   loop_len handedness  handedness_magnitude  \\\n",
       "0         1          L             -0.226841   \n",
       "1         2          L             -0.250730   \n",
       "2         6          L             -0.251390   \n",
       "3         3          L             -0.707118   \n",
       "4         4          L             -0.865696   \n",
       "5         5          L             -0.143099   \n",
       "6         4          L             -0.917436   \n",
       "7         3          R              0.842288   \n",
       "8        12          L             -0.173234   \n",
       "9         5          R              0.513473   \n",
       "\n",
       "                                   FullChainSequence   HairpinSequence  \\\n",
       "0  AAPANAVTADDPTAIALKYNQDATKSERVAAARPGLPPEEQHCANC...        CQFMQANVGE   \n",
       "1  AAPANAVTADDPTAIALKYNQDATKSERVAAARPGLPPEEQHCANC...     MQANVGEGDWKGC   \n",
       "2  AAPANAVTADDPTAIALKYNQDATKSERVAAARPGLPPEEQHCANC...     WKGCQLFPGKLIN   \n",
       "3  AAPANAVTADDPTAIALKYNQDATKSERVAAARPGLPPEEQHCANC...          LINVNGWC   \n",
       "4  AAPANAVTADDPTAIALKYNQDATKSERVAAARPGLPPEEQHCANC...          WCASWTLK   \n",
       "5  MAKWVCKICGYIYDEDAGDPDNGISPGTKFEELPDDWVCPICGAPK...      KWVCKICGYIYD   \n",
       "6  MAKWVCKICGYIYDEDAGDPDNGISPGTKFEELPDDWVCPICGAPK...         IYDEDAGDP   \n",
       "7  MAKWVCKICGYIYDEDAGDPDNGISPGTKFEELPDDWVCPICGAPK...           DPDNGIS   \n",
       "8  MAKWVCKICGYIYDEDAGDPDNGISPGTKFEELPDDWVCPICGAPK...  ISPGTKFEELPDDWVC   \n",
       "9  MAKWVCKICGYIYDEDAGDPDNGISPGTKFEELPDDWVCPICGAPK...         VCPICGAPK   \n",
       "\n",
       "   LoopSequence  \n",
       "0             F  \n",
       "1            GD  \n",
       "2        QLFPGK  \n",
       "3           VNG  \n",
       "4          ASWT  \n",
       "5         KICGY  \n",
       "6          EDAG  \n",
       "7           DNG  \n",
       "8  PGTKFEELPDDW  \n",
       "9         PICGA  "
      ]
     },
     "execution_count": 27,
     "metadata": {},
     "output_type": "execute_result"
    }
   ],
   "source": [
    "from dataset.io_utils import fetch_mmcif_file, run_dssp_on_mmcif\n",
    "from dataset.motif_logic import detect_hairpins_and_chirality, detect_hairpins_and_chirality_backbone\n",
    "import pandas as pd\n",
    "import os\n",
    "\n",
    "#pdb_ids = [\"8GBS\", \"7R1C\"]\n",
    "pdb_ids = pdb_ids[0:2000]\n",
    "results = []\n",
    "\n",
    "for pdb_id in pdb_ids:\n",
    "    pdb_path = fetch_mmcif_file(pdb_id)\n",
    "    try:\n",
    "        model, dssp_df = run_dssp_on_mmcif(pdb_path, dssp_exe=\"/opt/anaconda3/envs/folding-dssp/bin/mkdssp\")\n",
    "        if dssp_df is None:\n",
    "            print(f\"DSSP failed for {pdb_id}. Skipping.\")\n",
    "            continue\n",
    "        hp_df = detect_hairpins_and_chirality(model, dssp_df)\n",
    "        results.append(hp_df)\n",
    "    finally:\n",
    "        # Always remove the file, even if DSSP or parsing fails\n",
    "        if os.path.exists(pdb_path):\n",
    "            os.remove(pdb_path)\n",
    "\n",
    "all_hairpins = pd.concat(results, ignore_index=True)\n",
    "all_hairpins.head(10)"
   ]
  },
  {
   "cell_type": "code",
   "execution_count": null,
   "id": "00ffe1b9",
   "metadata": {},
   "outputs": [
    {
     "data": {
      "text/plain": [
       "<Axes: title={'center': 'β‑hairpin loop length vs chirality'}, xlabel='Loop length', ylabel='Count'>"
      ]
     },
     "execution_count": 28,
     "metadata": {},
     "output_type": "execute_result"
    },
    {
     "data": {
      "image/png": "[encoded data removed]",
      "text/plain": [
       "<Figure size 600x400 with 1 Axes>"
      ]
     },
     "metadata": {},
     "output_type": "display_data"
    }
   ],
   "source": [
    "plot_loop_length_chirality(all_hairpins)      # uses default loop lengths 2‑5\n"
   ]
  },
  {
   "cell_type": "code",
   "execution_count": null,
   "id": "62a04ee3",
   "metadata": {},
   "outputs": [],
   "source": []
  }
 ],
 "metadata": {
  "kernelspec": {
   "display_name": "folding-dssp",
   "language": "python",
   "name": "python3"
  },
  "language_info": {
   "codemirror_mode": {
    "name": "ipython",
    "version": 3
   },
   "file_extension": ".py",
   "mimetype": "text/x-python",
   "name": "python",
   "nbconvert_exporter": "python",
   "pygments_lexer": "ipython3",
   "version": "3.9.22"
  }
 },
 "nbformat": 4,
 "nbformat_minor": 5
}
